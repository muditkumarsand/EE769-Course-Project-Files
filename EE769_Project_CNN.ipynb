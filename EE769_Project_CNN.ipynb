{
  "nbformat": 4,
  "nbformat_minor": 0,
  "metadata": {
    "colab": {
      "name": "EE769_Project_CNN.ipynb",
      "provenance": [],
      "collapsed_sections": []
    },
    "kernelspec": {
      "display_name": "Python 3",
      "name": "python3"
    },
    "language_info": {
      "name": "python"
    }
  },
  "cells": [
    {
      "cell_type": "markdown",
      "metadata": {
        "id": "WKrpjZbtNYtT"
      },
      "source": [
        "Title : **Product attribute Extraction**\n",
        "\n",
        "Group Members:-\n",
        "\n",
        "Manas pandey :- 203100065\n",
        "\n",
        "Mudit sand :- 203100068\n",
        "\n",
        "Supriyo Roy :- 193109013"
      ]
    },
    {
      "cell_type": "markdown",
      "metadata": {
        "id": "oCnkTG1XNqoB"
      },
      "source": [
        "Library"
      ]
    },
    {
      "cell_type": "code",
      "metadata": {
        "id": "pr9UYOfl9Y0g"
      },
      "source": [
        "import tensorflow as tf\n",
        "#from tensorflow.keras.layers import Input, Dense, Embedding, Flatten \n",
        "from tensorflow.keras.models import Model\n",
        "#from tensorflow.keras.optimizers import SGD\n",
        "import numpy as np\n",
        "import pandas as pd\n",
        "from sklearn.model_selection import train_test_split\n",
        "from keras.preprocessing.text import Tokenizer\n",
        "from keras.preprocessing.sequence import pad_sequences\n",
        "from keras.models import Sequential\n",
        "from keras.layers import *\n",
        "from keras.initializers import Constant\n"
      ],
      "execution_count": null,
      "outputs": []
    },
    {
      "cell_type": "markdown",
      "metadata": {
        "id": "xxEw9LK0NtVS"
      },
      "source": [
        "Dataset"
      ]
    },
    {
      "cell_type": "code",
      "metadata": {
        "id": "Bin-UnoZ9t7C"
      },
      "source": [
        "dataset = pd.read_csv('/content/drive/MyDrive/Dataset - Sheet1.csv')\n"
      ],
      "execution_count": null,
      "outputs": []
    },
    {
      "cell_type": "markdown",
      "metadata": {
        "id": "4kMB1C0-hkLW"
      },
      "source": [
        "Dataset Visualization"
      ]
    },
    {
      "cell_type": "code",
      "metadata": {
        "colab": {
          "base_uri": "https://localhost:8080/",
          "height": 204
        },
        "id": "PgZCMUN597Bo",
        "outputId": "5bbcda2e-565e-4ef2-de2c-2a4a5ea186c0"
      },
      "source": [
        "dataset.head()"
      ],
      "execution_count": null,
      "outputs": [
        {
          "output_type": "execute_result",
          "data": {
            "text/html": [
              "<div>\n",
              "<style scoped>\n",
              "    .dataframe tbody tr th:only-of-type {\n",
              "        vertical-align: middle;\n",
              "    }\n",
              "\n",
              "    .dataframe tbody tr th {\n",
              "        vertical-align: top;\n",
              "    }\n",
              "\n",
              "    .dataframe thead th {\n",
              "        text-align: right;\n",
              "    }\n",
              "</style>\n",
              "<table border=\"1\" class=\"dataframe\">\n",
              "  <thead>\n",
              "    <tr style=\"text-align: right;\">\n",
              "      <th></th>\n",
              "      <th>Unnamed: 0</th>\n",
              "      <th>title</th>\n",
              "      <th>brand</th>\n",
              "      <th>present</th>\n",
              "      <th>root_cat</th>\n",
              "    </tr>\n",
              "  </thead>\n",
              "  <tbody>\n",
              "    <tr>\n",
              "      <th>0</th>\n",
              "      <td>0</td>\n",
              "      <td>Galt Shape Puzzle Emergency Vehicles Baby/Todd...</td>\n",
              "      <td>Galt</td>\n",
              "      <td>True</td>\n",
              "      <td>2984</td>\n",
              "    </tr>\n",
              "    <tr>\n",
              "      <th>1</th>\n",
              "      <td>1</td>\n",
              "      <td>BRIO Magnetic Building Wooden Blocks Toddler A...</td>\n",
              "      <td>Brio</td>\n",
              "      <td>True</td>\n",
              "      <td>2984</td>\n",
              "    </tr>\n",
              "    <tr>\n",
              "      <th>2</th>\n",
              "      <td>2</td>\n",
              "      <td>NEW GRAFIX 6PCS METALLIC FABRIC PAINT PEN MARK...</td>\n",
              "      <td>GRAFIX</td>\n",
              "      <td>True</td>\n",
              "      <td>550</td>\n",
              "    </tr>\n",
              "    <tr>\n",
              "      <th>3</th>\n",
              "      <td>3</td>\n",
              "      <td>NEW GRAFIX 6PCS METALLIC FABRIC PAINT PEN MARK...</td>\n",
              "      <td>GRAFIX</td>\n",
              "      <td>True</td>\n",
              "      <td>550</td>\n",
              "    </tr>\n",
              "    <tr>\n",
              "      <th>4</th>\n",
              "      <td>4</td>\n",
              "      <td>Coca Cola Coke Beach Girl Large 24 x 36 Wall P...</td>\n",
              "      <td>Coca Cola</td>\n",
              "      <td>True</td>\n",
              "      <td>550</td>\n",
              "    </tr>\n",
              "  </tbody>\n",
              "</table>\n",
              "</div>"
            ],
            "text/plain": [
              "   Unnamed: 0  ... root_cat\n",
              "0           0  ...     2984\n",
              "1           1  ...     2984\n",
              "2           2  ...      550\n",
              "3           3  ...      550\n",
              "4           4  ...      550\n",
              "\n",
              "[5 rows x 5 columns]"
            ]
          },
          "metadata": {
            "tags": []
          },
          "execution_count": 57
        }
      ]
    },
    {
      "cell_type": "markdown",
      "metadata": {
        "id": "LiTF6vZTh1-f"
      },
      "source": [
        "Taking the important features of the dataset for further processing"
      ]
    },
    {
      "cell_type": "code",
      "metadata": {
        "colab": {
          "base_uri": "https://localhost:8080/",
          "height": 204
        },
        "id": "KuE_YDXH97wt",
        "outputId": "d77484c1-375d-43b7-ad83-6bbcd073bb66"
      },
      "source": [
        "dataset= dataset[['title','brand']]\n",
        "dataset.head()"
      ],
      "execution_count": null,
      "outputs": [
        {
          "output_type": "execute_result",
          "data": {
            "text/html": [
              "<div>\n",
              "<style scoped>\n",
              "    .dataframe tbody tr th:only-of-type {\n",
              "        vertical-align: middle;\n",
              "    }\n",
              "\n",
              "    .dataframe tbody tr th {\n",
              "        vertical-align: top;\n",
              "    }\n",
              "\n",
              "    .dataframe thead th {\n",
              "        text-align: right;\n",
              "    }\n",
              "</style>\n",
              "<table border=\"1\" class=\"dataframe\">\n",
              "  <thead>\n",
              "    <tr style=\"text-align: right;\">\n",
              "      <th></th>\n",
              "      <th>title</th>\n",
              "      <th>brand</th>\n",
              "    </tr>\n",
              "  </thead>\n",
              "  <tbody>\n",
              "    <tr>\n",
              "      <th>0</th>\n",
              "      <td>Galt Shape Puzzle Emergency Vehicles Baby/Todd...</td>\n",
              "      <td>Galt</td>\n",
              "    </tr>\n",
              "    <tr>\n",
              "      <th>1</th>\n",
              "      <td>BRIO Magnetic Building Wooden Blocks Toddler A...</td>\n",
              "      <td>Brio</td>\n",
              "    </tr>\n",
              "    <tr>\n",
              "      <th>2</th>\n",
              "      <td>NEW GRAFIX 6PCS METALLIC FABRIC PAINT PEN MARK...</td>\n",
              "      <td>GRAFIX</td>\n",
              "    </tr>\n",
              "    <tr>\n",
              "      <th>3</th>\n",
              "      <td>NEW GRAFIX 6PCS METALLIC FABRIC PAINT PEN MARK...</td>\n",
              "      <td>GRAFIX</td>\n",
              "    </tr>\n",
              "    <tr>\n",
              "      <th>4</th>\n",
              "      <td>Coca Cola Coke Beach Girl Large 24 x 36 Wall P...</td>\n",
              "      <td>Coca Cola</td>\n",
              "    </tr>\n",
              "  </tbody>\n",
              "</table>\n",
              "</div>"
            ],
            "text/plain": [
              "                                               title      brand\n",
              "0  Galt Shape Puzzle Emergency Vehicles Baby/Todd...       Galt\n",
              "1  BRIO Magnetic Building Wooden Blocks Toddler A...       Brio\n",
              "2  NEW GRAFIX 6PCS METALLIC FABRIC PAINT PEN MARK...     GRAFIX\n",
              "3  NEW GRAFIX 6PCS METALLIC FABRIC PAINT PEN MARK...     GRAFIX\n",
              "4  Coca Cola Coke Beach Girl Large 24 x 36 Wall P...  Coca Cola"
            ]
          },
          "metadata": {
            "tags": []
          },
          "execution_count": 58
        }
      ]
    },
    {
      "cell_type": "markdown",
      "metadata": {
        "id": "zhKG1fW4U4fE"
      },
      "source": [
        "Tokenizer"
      ]
    },
    {
      "cell_type": "code",
      "metadata": {
        "id": "qG1nhusr9-X8"
      },
      "source": [
        "featurestoCare = 20000\n",
        "MAX_SEQUENCE_LENGTH=50\n",
        "tokens = Tokenizer(num_words=featurestoCare)\n",
        "tokens.fit_on_texts(dataset['title'].values)\n",
        "x = tokens.texts_to_sequences(dataset['title'].values)\n",
        "x = pad_sequences(x)\n",
        "tokens.fit_on_texts(dataset['brand'].values)\n",
        "y = tokens.texts_to_sequences(dataset['brand'].values)\n",
        "y = pad_sequences(y)\n",
        "y=y[:,2:]"
      ],
      "execution_count": null,
      "outputs": []
    },
    {
      "cell_type": "code",
      "metadata": {
        "colab": {
          "base_uri": "https://localhost:8080/"
        },
        "id": "L-TLsATnJJ3Z",
        "outputId": "94484a4b-f8bc-46d9-9aa1-0d54f50e971c"
      },
      "source": [
        "x.shape"
      ],
      "execution_count": null,
      "outputs": [
        {
          "output_type": "execute_result",
          "data": {
            "text/plain": [
              "(1509, 21)"
            ]
          },
          "metadata": {
            "tags": []
          },
          "execution_count": 60
        }
      ]
    },
    {
      "cell_type": "markdown",
      "metadata": {
        "id": "blCoEAKgh6uH"
      },
      "source": [
        "Train Test Splitting"
      ]
    },
    {
      "cell_type": "code",
      "metadata": {
        "id": "ry7PcnDh-BpD"
      },
      "source": [
        "X_train, X_test, y_train, y_test = train_test_split(x, y, test_size=0.1)\n"
      ],
      "execution_count": null,
      "outputs": []
    },
    {
      "cell_type": "markdown",
      "metadata": {
        "id": "jJPwHnfiiAPr"
      },
      "source": [
        "Word Embedding"
      ]
    },
    {
      "cell_type": "code",
      "metadata": {
        "id": "CGScoc8k-FYb"
      },
      "source": [
        "embeddings_index = {}\n",
        "f = open('/content/drive/MyDrive/myfile.txt') #Embedding File\n",
        "\n",
        "for line in f:\n",
        "    values = line.split()\n",
        "    word = values[0]\n",
        "    coefs = np.asarray(values[1:], dtype='float32')\n",
        "    embeddings_index[word] = coefs\n",
        "f.close()"
      ],
      "execution_count": null,
      "outputs": []
    },
    {
      "cell_type": "code",
      "metadata": {
        "colab": {
          "base_uri": "https://localhost:8080/"
        },
        "id": "LHR2Iqma-IO8",
        "outputId": "20fb96e0-12ef-4393-ee7d-01117af6f747"
      },
      "source": [
        "word_index = tokens.word_index\n",
        "print('Found %s unique tokens.' % len(word_index))"
      ],
      "execution_count": null,
      "outputs": [
        {
          "output_type": "stream",
          "text": [
            "Found 3666 unique tokens.\n"
          ],
          "name": "stdout"
        }
      ]
    },
    {
      "cell_type": "code",
      "metadata": {
        "id": "UMfgvdoI-Mqa"
      },
      "source": [
        "# Word Embedding \n",
        "embedding_dim = 1000\n",
        "num_words = min(featurestoCare, len(word_index)) + 1\n",
        "# first create a matrix of zeros, this is our embedding matrix\n",
        "embedding_matrix = np.zeros((num_words, embedding_dim))\n",
        "# for each word in out tokenizer lets try to find that work in our w2v model\n",
        "for word, i in word_index.items():\n",
        "    if i > num_words:\n",
        "        continue\n",
        "    embedding_vector = embeddings_index.get(word)\n",
        "    if embedding_vector is not None:\n",
        "        # we found the word - add that words vector to the matrix\n",
        "        embedding_matrix[i] = embedding_vector"
      ],
      "execution_count": null,
      "outputs": []
    },
    {
      "cell_type": "code",
      "metadata": {
        "id": "XPV0LTa3-Q1R"
      },
      "source": [
        "# Embedding Layer\n",
        "embedding_layer=Embedding(num_words,\n",
        "                    embedding_dim,\n",
        "                    embeddings_initializer=Constant(embedding_matrix),\n",
        "                    trainable=True)"
      ],
      "execution_count": null,
      "outputs": []
    },
    {
      "cell_type": "markdown",
      "metadata": {
        "id": "eJ8JGcdYiHhO"
      },
      "source": [
        "CNN Model"
      ]
    },
    {
      "cell_type": "code",
      "metadata": {
        "colab": {
          "base_uri": "https://localhost:8080/"
        },
        "id": "Q_q0CSb4-To4",
        "outputId": "bcbffa7a-65cc-4843-d20a-5bb36913ac25"
      },
      "source": [
        "# CNN Model \n",
        "sequence_input = Input(shape=(21,), dtype='int32')\n",
        "embedded_sequences = embedding_layer(sequence_input)\n",
        "\n",
        "#Convolution Layer\n",
        "x = Conv1D(128, 3, activation='relu')(embedded_sequences)\n",
        "\n",
        "x = Conv1D(64, 3, activation='relu')(x)\n",
        "\n",
        "x = Conv1D(64, 3, activation='relu')(x)\n",
        "x = Conv1D(64, 3, activation='relu')(x)\n",
        "\n",
        "x = Flatten()(x)\n",
        "\n",
        "#Dense Layer\n",
        "x = Dense(64, activation='relu')(x)\n",
        "preds = Dense(2, activation='softmax')(x)\n",
        "\n",
        "model = Model(sequence_input, preds)\n",
        "\n",
        "#Optimizer\n",
        "sgd=SGD(learning_rate=1e-5, momentum=0.5)\n",
        "\n",
        "#Model Compilation\n",
        "model.compile(loss='categorical_crossentropy',\n",
        "              optimizer=sgd,\n",
        "              metrics=['acc'])\n",
        "\n",
        "#Model Fitting\n",
        "model.fit(X_train, y_train, validation_data=(X_test, y_test),\n",
        "          epochs=10, batch_size=32)"
      ],
      "execution_count": null,
      "outputs": [
        {
          "output_type": "stream",
          "text": [
            "Epoch 1/10\n",
            "43/43 [==============================] - 4s 74ms/step - loss: 181.1569 - acc: 0.8686 - val_loss: 209.7675 - val_acc: 0.9801\n",
            "Epoch 2/10\n",
            "43/43 [==============================] - 3s 69ms/step - loss: 184.6107 - acc: 0.9692 - val_loss: 199.9536 - val_acc: 0.9801\n",
            "Epoch 3/10\n",
            "43/43 [==============================] - 3s 68ms/step - loss: 160.1324 - acc: 0.9591 - val_loss: 191.8774 - val_acc: 0.9801\n",
            "Epoch 4/10\n",
            "43/43 [==============================] - 3s 68ms/step - loss: 159.9297 - acc: 0.9672 - val_loss: 185.4232 - val_acc: 0.9801\n",
            "Epoch 5/10\n",
            "43/43 [==============================] - 3s 69ms/step - loss: 144.2470 - acc: 0.9594 - val_loss: 180.6547 - val_acc: 0.9801\n",
            "Epoch 6/10\n",
            "43/43 [==============================] - 3s 69ms/step - loss: 137.2668 - acc: 0.9649 - val_loss: 177.5742 - val_acc: 0.9801\n",
            "Epoch 7/10\n",
            "43/43 [==============================] - 3s 70ms/step - loss: 142.9906 - acc: 0.9623 - val_loss: 175.9934 - val_acc: 0.9801\n",
            "Epoch 8/10\n",
            "43/43 [==============================] - 3s 69ms/step - loss: 127.1618 - acc: 0.9642 - val_loss: 175.7916 - val_acc: 0.9801\n",
            "Epoch 9/10\n",
            "43/43 [==============================] - 3s 69ms/step - loss: 125.6600 - acc: 0.9711 - val_loss: 176.8557 - val_acc: 0.9801\n",
            "Epoch 10/10\n",
            "43/43 [==============================] - 3s 68ms/step - loss: 134.7831 - acc: 0.9639 - val_loss: 179.1233 - val_acc: 0.9801\n"
          ],
          "name": "stdout"
        },
        {
          "output_type": "execute_result",
          "data": {
            "text/plain": [
              "<tensorflow.python.keras.callbacks.History at 0x7f74229cfd10>"
            ]
          },
          "metadata": {
            "tags": []
          },
          "execution_count": 65
        }
      ]
    },
    {
      "cell_type": "markdown",
      "metadata": {
        "id": "TmmV64WbiaEN"
      },
      "source": [
        "Model Summary"
      ]
    },
    {
      "cell_type": "code",
      "metadata": {
        "id": "Mp_N1a7qMMyv",
        "colab": {
          "base_uri": "https://localhost:8080/"
        },
        "outputId": "d61ef662-5fc8-4688-bc4d-1a8be95f6e54"
      },
      "source": [
        "print(model.summary())"
      ],
      "execution_count": null,
      "outputs": [
        {
          "output_type": "stream",
          "text": [
            "Model: \"model_4\"\n",
            "_________________________________________________________________\n",
            "Layer (type)                 Output Shape              Param #   \n",
            "=================================================================\n",
            "input_5 (InputLayer)         [(None, 21)]              0         \n",
            "_________________________________________________________________\n",
            "embedding_4 (Embedding)      (None, 21, 1000)          3667000   \n",
            "_________________________________________________________________\n",
            "conv1d_16 (Conv1D)           (None, 19, 128)           384128    \n",
            "_________________________________________________________________\n",
            "conv1d_17 (Conv1D)           (None, 17, 64)            24640     \n",
            "_________________________________________________________________\n",
            "conv1d_18 (Conv1D)           (None, 15, 64)            12352     \n",
            "_________________________________________________________________\n",
            "conv1d_19 (Conv1D)           (None, 13, 64)            12352     \n",
            "_________________________________________________________________\n",
            "flatten_4 (Flatten)          (None, 832)               0         \n",
            "_________________________________________________________________\n",
            "dense_29 (Dense)             (None, 64)                53312     \n",
            "_________________________________________________________________\n",
            "dense_30 (Dense)             (None, 2)                 130       \n",
            "=================================================================\n",
            "Total params: 4,153,914\n",
            "Trainable params: 4,153,914\n",
            "Non-trainable params: 0\n",
            "_________________________________________________________________\n",
            "None\n"
          ],
          "name": "stdout"
        }
      ]
    },
    {
      "cell_type": "markdown",
      "metadata": {
        "id": "vfU-G-ciic2U"
      },
      "source": [
        "Prediction"
      ]
    },
    {
      "cell_type": "code",
      "metadata": {
        "id": "TpiYC87jkRIn"
      },
      "source": [
        "pred=model.predict(X_test)\n"
      ],
      "execution_count": null,
      "outputs": []
    },
    {
      "cell_type": "code",
      "metadata": {
        "id": "rsaORWnqhciy",
        "colab": {
          "base_uri": "https://localhost:8080/"
        },
        "outputId": "ed22d3a1-6208-494e-d8a9-fc3d5121eb2f"
      },
      "source": [
        "print(pred)"
      ],
      "execution_count": null,
      "outputs": [
        {
          "output_type": "stream",
          "text": [
            "[[0.1812075 0.8187925]\n",
            " [0.1812075 0.8187925]\n",
            " [0.1812075 0.8187925]\n",
            " [0.1812075 0.8187925]\n",
            " [0.1812075 0.8187925]\n",
            " [0.1812075 0.8187925]\n",
            " [0.1812075 0.8187925]\n",
            " [0.1812075 0.8187925]\n",
            " [0.1812075 0.8187925]\n",
            " [0.1812075 0.8187925]\n",
            " [0.1812075 0.8187925]\n",
            " [0.1812075 0.8187925]\n",
            " [0.1812075 0.8187925]\n",
            " [0.1812075 0.8187925]\n",
            " [0.1812075 0.8187925]\n",
            " [0.1812075 0.8187925]\n",
            " [0.1812075 0.8187925]\n",
            " [0.1812075 0.8187925]\n",
            " [0.1812075 0.8187925]\n",
            " [0.1812075 0.8187925]\n",
            " [0.1812075 0.8187925]\n",
            " [0.1812075 0.8187925]\n",
            " [0.1812075 0.8187925]\n",
            " [0.1812075 0.8187925]\n",
            " [0.1812075 0.8187925]\n",
            " [0.1812075 0.8187925]\n",
            " [0.1812075 0.8187925]\n",
            " [0.1812075 0.8187925]\n",
            " [0.1812075 0.8187925]\n",
            " [0.1812075 0.8187925]\n",
            " [0.1812075 0.8187925]\n",
            " [0.1812075 0.8187925]\n",
            " [0.1812075 0.8187925]\n",
            " [0.1812075 0.8187925]\n",
            " [0.1812075 0.8187925]\n",
            " [0.1812075 0.8187925]\n",
            " [0.1812075 0.8187925]\n",
            " [0.1812075 0.8187925]\n",
            " [0.1812075 0.8187925]\n",
            " [0.1812075 0.8187925]\n",
            " [0.1812075 0.8187925]\n",
            " [0.1812075 0.8187925]\n",
            " [0.1812075 0.8187925]\n",
            " [0.1812075 0.8187925]\n",
            " [0.1812075 0.8187925]\n",
            " [0.1812075 0.8187925]\n",
            " [0.1812075 0.8187925]\n",
            " [0.1812075 0.8187925]\n",
            " [0.1812075 0.8187925]\n",
            " [0.1812075 0.8187925]\n",
            " [0.1812075 0.8187925]\n",
            " [0.1812075 0.8187925]\n",
            " [0.1812075 0.8187925]\n",
            " [0.1812075 0.8187925]\n",
            " [0.1812075 0.8187925]\n",
            " [0.1812075 0.8187925]\n",
            " [0.1812075 0.8187925]\n",
            " [0.1812075 0.8187925]\n",
            " [0.1812075 0.8187925]\n",
            " [0.1812075 0.8187925]\n",
            " [0.1812075 0.8187925]\n",
            " [0.1812075 0.8187925]\n",
            " [0.1812075 0.8187925]\n",
            " [0.1812075 0.8187925]\n",
            " [0.1812075 0.8187925]\n",
            " [0.1812075 0.8187925]\n",
            " [0.1812075 0.8187925]\n",
            " [0.1812075 0.8187925]\n",
            " [0.1812075 0.8187925]\n",
            " [0.1812075 0.8187925]\n",
            " [0.1812075 0.8187925]\n",
            " [0.1812075 0.8187925]\n",
            " [0.1812075 0.8187925]\n",
            " [0.1812075 0.8187925]\n",
            " [0.1812075 0.8187925]\n",
            " [0.1812075 0.8187925]\n",
            " [0.1812075 0.8187925]\n",
            " [0.1812075 0.8187925]\n",
            " [0.1812075 0.8187925]\n",
            " [0.1812075 0.8187925]\n",
            " [0.1812075 0.8187925]\n",
            " [0.1812075 0.8187925]\n",
            " [0.1812075 0.8187925]\n",
            " [0.1812075 0.8187925]\n",
            " [0.1812075 0.8187925]\n",
            " [0.1812075 0.8187925]\n",
            " [0.1812075 0.8187925]\n",
            " [0.1812075 0.8187925]\n",
            " [0.1812075 0.8187925]\n",
            " [0.1812075 0.8187925]\n",
            " [0.1812075 0.8187925]\n",
            " [0.1812075 0.8187925]\n",
            " [0.1812075 0.8187925]\n",
            " [0.1812075 0.8187925]\n",
            " [0.1812075 0.8187925]\n",
            " [0.1812075 0.8187925]\n",
            " [0.1812075 0.8187925]\n",
            " [0.1812075 0.8187925]\n",
            " [0.1812075 0.8187925]\n",
            " [0.1812075 0.8187925]\n",
            " [0.1812075 0.8187925]\n",
            " [0.1812075 0.8187925]\n",
            " [0.1812075 0.8187925]\n",
            " [0.1812075 0.8187925]\n",
            " [0.1812075 0.8187925]\n",
            " [0.1812075 0.8187925]\n",
            " [0.1812075 0.8187925]\n",
            " [0.1812075 0.8187925]\n",
            " [0.1812075 0.8187925]\n",
            " [0.1812075 0.8187925]\n",
            " [0.1812075 0.8187925]\n",
            " [0.1812075 0.8187925]\n",
            " [0.1812075 0.8187925]\n",
            " [0.1812075 0.8187925]\n",
            " [0.1812075 0.8187925]\n",
            " [0.1812075 0.8187925]\n",
            " [0.1812075 0.8187925]\n",
            " [0.1812075 0.8187925]\n",
            " [0.1812075 0.8187925]\n",
            " [0.1812075 0.8187925]\n",
            " [0.1812075 0.8187925]\n",
            " [0.1812075 0.8187925]\n",
            " [0.1812075 0.8187925]\n",
            " [0.1812075 0.8187925]\n",
            " [0.1812075 0.8187925]\n",
            " [0.1812075 0.8187925]\n",
            " [0.1812075 0.8187925]\n",
            " [0.1812075 0.8187925]\n",
            " [0.1812075 0.8187925]\n",
            " [0.1812075 0.8187925]\n",
            " [0.1812075 0.8187925]\n",
            " [0.1812075 0.8187925]\n",
            " [0.1812075 0.8187925]\n",
            " [0.1812075 0.8187925]\n",
            " [0.1812075 0.8187925]\n",
            " [0.1812075 0.8187925]\n",
            " [0.1812075 0.8187925]\n",
            " [0.1812075 0.8187925]\n",
            " [0.1812075 0.8187925]\n",
            " [0.1812075 0.8187925]\n",
            " [0.1812075 0.8187925]\n",
            " [0.1812075 0.8187925]\n",
            " [0.1812075 0.8187925]\n",
            " [0.1812075 0.8187925]\n",
            " [0.1812075 0.8187925]\n",
            " [0.1812075 0.8187925]\n",
            " [0.1812075 0.8187925]\n",
            " [0.1812075 0.8187925]\n",
            " [0.1812075 0.8187925]\n",
            " [0.1812075 0.8187925]\n",
            " [0.1812075 0.8187925]]\n"
          ],
          "name": "stdout"
        }
      ]
    }
  ]
}