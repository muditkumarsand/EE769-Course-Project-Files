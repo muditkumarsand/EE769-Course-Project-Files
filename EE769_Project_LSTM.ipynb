{
  "nbformat": 4,
  "nbformat_minor": 0,
  "metadata": {
    "colab": {
      "name": "EE769_Project_LSTM.ipynb",
      "provenance": [],
      "collapsed_sections": []
    },
    "kernelspec": {
      "name": "python3",
      "display_name": "Python 3"
    },
    "language_info": {
      "name": "python"
    }
  },
  "cells": [
    {
      "cell_type": "markdown",
      "metadata": {
        "id": "JVFh9kbmcFHq"
      },
      "source": [
        "**Title : Product attribute Extraction**\n",
        "\n",
        "Group Members:-\n",
        "\n",
        "Manas pandey :- 203100065\n",
        "\n",
        "Mudit sand :- 203100068\n",
        "\n",
        "Supriyo Roy :- 193109013\n"
      ]
    },
    {
      "cell_type": "markdown",
      "metadata": {
        "id": "1VR7Qz1idTYY"
      },
      "source": [
        "Importing Libraries"
      ]
    },
    {
      "cell_type": "code",
      "metadata": {
        "colab": {
          "base_uri": "https://localhost:8080/"
        },
        "id": "3iutG5s1scfT",
        "outputId": "21b1a874-8fe3-4dd5-f1e7-54f2f456619d"
      },
      "source": [
        "%tensorflow_version 2.x\n",
        "!pip install tensorflow\n",
        "import tensorflow as tf\n",
        "print(tf.__version__)"
      ],
      "execution_count": null,
      "outputs": [
        {
          "output_type": "stream",
          "text": [
            "Requirement already satisfied: tensorflow in /usr/local/lib/python3.7/dist-packages (2.4.1)\n",
            "Requirement already satisfied: tensorboard~=2.4 in /usr/local/lib/python3.7/dist-packages (from tensorflow) (2.4.1)\n",
            "Requirement already satisfied: protobuf>=3.9.2 in /usr/local/lib/python3.7/dist-packages (from tensorflow) (3.12.4)\n",
            "Requirement already satisfied: h5py~=2.10.0 in /usr/local/lib/python3.7/dist-packages (from tensorflow) (2.10.0)\n",
            "Requirement already satisfied: termcolor~=1.1.0 in /usr/local/lib/python3.7/dist-packages (from tensorflow) (1.1.0)\n",
            "Requirement already satisfied: astunparse~=1.6.3 in /usr/local/lib/python3.7/dist-packages (from tensorflow) (1.6.3)\n",
            "Requirement already satisfied: absl-py~=0.10 in /usr/local/lib/python3.7/dist-packages (from tensorflow) (0.12.0)\n",
            "Requirement already satisfied: wrapt~=1.12.1 in /usr/local/lib/python3.7/dist-packages (from tensorflow) (1.12.1)\n",
            "Requirement already satisfied: tensorflow-estimator<2.5.0,>=2.4.0 in /usr/local/lib/python3.7/dist-packages (from tensorflow) (2.4.0)\n",
            "Requirement already satisfied: wheel~=0.35 in /usr/local/lib/python3.7/dist-packages (from tensorflow) (0.36.2)\n",
            "Requirement already satisfied: gast==0.3.3 in /usr/local/lib/python3.7/dist-packages (from tensorflow) (0.3.3)\n",
            "Requirement already satisfied: six~=1.15.0 in /usr/local/lib/python3.7/dist-packages (from tensorflow) (1.15.0)\n",
            "Requirement already satisfied: flatbuffers~=1.12.0 in /usr/local/lib/python3.7/dist-packages (from tensorflow) (1.12)\n",
            "Requirement already satisfied: opt-einsum~=3.3.0 in /usr/local/lib/python3.7/dist-packages (from tensorflow) (3.3.0)\n",
            "Requirement already satisfied: grpcio~=1.32.0 in /usr/local/lib/python3.7/dist-packages (from tensorflow) (1.32.0)\n",
            "Requirement already satisfied: keras-preprocessing~=1.1.2 in /usr/local/lib/python3.7/dist-packages (from tensorflow) (1.1.2)\n",
            "Requirement already satisfied: numpy~=1.19.2 in /usr/local/lib/python3.7/dist-packages (from tensorflow) (1.19.5)\n",
            "Requirement already satisfied: typing-extensions~=3.7.4 in /usr/local/lib/python3.7/dist-packages (from tensorflow) (3.7.4.3)\n",
            "Requirement already satisfied: google-pasta~=0.2 in /usr/local/lib/python3.7/dist-packages (from tensorflow) (0.2.0)\n",
            "Requirement already satisfied: werkzeug>=0.11.15 in /usr/local/lib/python3.7/dist-packages (from tensorboard~=2.4->tensorflow) (2.0.0)\n",
            "Requirement already satisfied: requests<3,>=2.21.0 in /usr/local/lib/python3.7/dist-packages (from tensorboard~=2.4->tensorflow) (2.23.0)\n",
            "Requirement already satisfied: setuptools>=41.0.0 in /usr/local/lib/python3.7/dist-packages (from tensorboard~=2.4->tensorflow) (56.1.0)\n",
            "Requirement already satisfied: google-auth<2,>=1.6.3 in /usr/local/lib/python3.7/dist-packages (from tensorboard~=2.4->tensorflow) (1.30.0)\n",
            "Requirement already satisfied: markdown>=2.6.8 in /usr/local/lib/python3.7/dist-packages (from tensorboard~=2.4->tensorflow) (3.3.4)\n",
            "Requirement already satisfied: google-auth-oauthlib<0.5,>=0.4.1 in /usr/local/lib/python3.7/dist-packages (from tensorboard~=2.4->tensorflow) (0.4.4)\n",
            "Requirement already satisfied: tensorboard-plugin-wit>=1.6.0 in /usr/local/lib/python3.7/dist-packages (from tensorboard~=2.4->tensorflow) (1.8.0)\n",
            "Requirement already satisfied: chardet<4,>=3.0.2 in /usr/local/lib/python3.7/dist-packages (from requests<3,>=2.21.0->tensorboard~=2.4->tensorflow) (3.0.4)\n",
            "Requirement already satisfied: certifi>=2017.4.17 in /usr/local/lib/python3.7/dist-packages (from requests<3,>=2.21.0->tensorboard~=2.4->tensorflow) (2020.12.5)\n",
            "Requirement already satisfied: idna<3,>=2.5 in /usr/local/lib/python3.7/dist-packages (from requests<3,>=2.21.0->tensorboard~=2.4->tensorflow) (2.10)\n",
            "Requirement already satisfied: urllib3!=1.25.0,!=1.25.1,<1.26,>=1.21.1 in /usr/local/lib/python3.7/dist-packages (from requests<3,>=2.21.0->tensorboard~=2.4->tensorflow) (1.24.3)\n",
            "Requirement already satisfied: pyasn1-modules>=0.2.1 in /usr/local/lib/python3.7/dist-packages (from google-auth<2,>=1.6.3->tensorboard~=2.4->tensorflow) (0.2.8)\n",
            "Requirement already satisfied: cachetools<5.0,>=2.0.0 in /usr/local/lib/python3.7/dist-packages (from google-auth<2,>=1.6.3->tensorboard~=2.4->tensorflow) (4.2.2)\n",
            "Requirement already satisfied: rsa<5,>=3.1.4; python_version >= \"3.6\" in /usr/local/lib/python3.7/dist-packages (from google-auth<2,>=1.6.3->tensorboard~=2.4->tensorflow) (4.7.2)\n",
            "Requirement already satisfied: importlib-metadata; python_version < \"3.8\" in /usr/local/lib/python3.7/dist-packages (from markdown>=2.6.8->tensorboard~=2.4->tensorflow) (4.0.1)\n",
            "Requirement already satisfied: requests-oauthlib>=0.7.0 in /usr/local/lib/python3.7/dist-packages (from google-auth-oauthlib<0.5,>=0.4.1->tensorboard~=2.4->tensorflow) (1.3.0)\n",
            "Requirement already satisfied: pyasn1<0.5.0,>=0.4.6 in /usr/local/lib/python3.7/dist-packages (from pyasn1-modules>=0.2.1->google-auth<2,>=1.6.3->tensorboard~=2.4->tensorflow) (0.4.8)\n",
            "Requirement already satisfied: zipp>=0.5 in /usr/local/lib/python3.7/dist-packages (from importlib-metadata; python_version < \"3.8\"->markdown>=2.6.8->tensorboard~=2.4->tensorflow) (3.4.1)\n",
            "Requirement already satisfied: oauthlib>=3.0.0 in /usr/local/lib/python3.7/dist-packages (from requests-oauthlib>=0.7.0->google-auth-oauthlib<0.5,>=0.4.1->tensorboard~=2.4->tensorflow) (3.1.0)\n",
            "2.4.1\n"
          ],
          "name": "stdout"
        }
      ]
    },
    {
      "cell_type": "code",
      "metadata": {
        "id": "zgHNJY1lkA3b"
      },
      "source": [
        "from tensorflow.keras.models import Model\n",
        "import numpy as np\n",
        "import pandas as pd\n",
        "from sklearn.model_selection import train_test_split"
      ],
      "execution_count": null,
      "outputs": []
    },
    {
      "cell_type": "code",
      "metadata": {
        "id": "kPC99oTprrws"
      },
      "source": [
        "from keras.preprocessing.text import Tokenizer\n",
        "from keras.preprocessing.sequence import pad_sequences\n",
        "from keras.models import Sequential\n",
        "from keras.layers import *\n",
        "from keras.initializers import Constant\n"
      ],
      "execution_count": null,
      "outputs": []
    },
    {
      "cell_type": "markdown",
      "metadata": {
        "id": "ofnZrDgYdtQT"
      },
      "source": [
        "Loading the dataset"
      ]
    },
    {
      "cell_type": "code",
      "metadata": {
        "colab": {
          "base_uri": "https://localhost:8080/"
        },
        "id": "eOTlPtCMEVVA",
        "outputId": "7e5e5fd5-1b6b-405d-b067-1731fef7a6b8"
      },
      "source": [
        "from google.colab import drive\n",
        "drive.mount('/content/drive')"
      ],
      "execution_count": null,
      "outputs": [
        {
          "output_type": "stream",
          "text": [
            "Drive already mounted at /content/drive; to attempt to forcibly remount, call drive.mount(\"/content/drive\", force_remount=True).\n"
          ],
          "name": "stdout"
        }
      ]
    },
    {
      "cell_type": "code",
      "metadata": {
        "id": "jKPgDXd0kOZY"
      },
      "source": [
        "dataset = pd.read_csv('/content/drive/MyDrive/train.csv')"
      ],
      "execution_count": null,
      "outputs": []
    },
    {
      "cell_type": "markdown",
      "metadata": {
        "id": "fNQxiGVsdwpj"
      },
      "source": [
        "Visualizinig the dataset"
      ]
    },
    {
      "cell_type": "code",
      "metadata": {
        "id": "5jSh-ZYFpedW",
        "colab": {
          "base_uri": "https://localhost:8080/",
          "height": 204
        },
        "outputId": "bd35ce04-cc9f-4350-fc0c-0cb3acb37aac"
      },
      "source": [
        "dataset.head()"
      ],
      "execution_count": null,
      "outputs": [
        {
          "output_type": "execute_result",
          "data": {
            "text/html": [
              "<div>\n",
              "<style scoped>\n",
              "    .dataframe tbody tr th:only-of-type {\n",
              "        vertical-align: middle;\n",
              "    }\n",
              "\n",
              "    .dataframe tbody tr th {\n",
              "        vertical-align: top;\n",
              "    }\n",
              "\n",
              "    .dataframe thead th {\n",
              "        text-align: right;\n",
              "    }\n",
              "</style>\n",
              "<table border=\"1\" class=\"dataframe\">\n",
              "  <thead>\n",
              "    <tr style=\"text-align: right;\">\n",
              "      <th></th>\n",
              "      <th>Unnamed: 0</th>\n",
              "      <th>title</th>\n",
              "      <th>brand</th>\n",
              "      <th>present</th>\n",
              "      <th>root_cat</th>\n",
              "    </tr>\n",
              "  </thead>\n",
              "  <tbody>\n",
              "    <tr>\n",
              "      <th>0</th>\n",
              "      <td>0</td>\n",
              "      <td>Galt Shape Puzzle Emergency Vehicles Baby/Todd...</td>\n",
              "      <td>Galt</td>\n",
              "      <td>True</td>\n",
              "      <td>2984</td>\n",
              "    </tr>\n",
              "    <tr>\n",
              "      <th>1</th>\n",
              "      <td>1</td>\n",
              "      <td>BRIO Magnetic Building Wooden Blocks Toddler A...</td>\n",
              "      <td>Brio</td>\n",
              "      <td>True</td>\n",
              "      <td>2984</td>\n",
              "    </tr>\n",
              "    <tr>\n",
              "      <th>2</th>\n",
              "      <td>2</td>\n",
              "      <td>NEW GRAFIX 6PCS METALLIC FABRIC PAINT PEN MARK...</td>\n",
              "      <td>GRAFIX</td>\n",
              "      <td>True</td>\n",
              "      <td>550</td>\n",
              "    </tr>\n",
              "    <tr>\n",
              "      <th>3</th>\n",
              "      <td>3</td>\n",
              "      <td>NEW GRAFIX 6PCS METALLIC FABRIC PAINT PEN MARK...</td>\n",
              "      <td>GRAFIX</td>\n",
              "      <td>True</td>\n",
              "      <td>550</td>\n",
              "    </tr>\n",
              "    <tr>\n",
              "      <th>4</th>\n",
              "      <td>4</td>\n",
              "      <td>Coca Cola Coke Beach Girl Large 24 x 36 Wall P...</td>\n",
              "      <td>Coca Cola</td>\n",
              "      <td>True</td>\n",
              "      <td>550</td>\n",
              "    </tr>\n",
              "  </tbody>\n",
              "</table>\n",
              "</div>"
            ],
            "text/plain": [
              "   Unnamed: 0  ... root_cat\n",
              "0           0  ...     2984\n",
              "1           1  ...     2984\n",
              "2           2  ...      550\n",
              "3           3  ...      550\n",
              "4           4  ...      550\n",
              "\n",
              "[5 rows x 5 columns]"
            ]
          },
          "metadata": {
            "tags": []
          },
          "execution_count": 6
        }
      ]
    },
    {
      "cell_type": "markdown",
      "metadata": {
        "id": "1G1FvOYod0Td"
      },
      "source": [
        "Taking the important features of the dataset for further processing"
      ]
    },
    {
      "cell_type": "code",
      "metadata": {
        "id": "8FwqgmY7plAo"
      },
      "source": [
        "dataset= dataset[['title','brand']]"
      ],
      "execution_count": null,
      "outputs": []
    },
    {
      "cell_type": "markdown",
      "metadata": {
        "id": "1YwZqYJpd6hD"
      },
      "source": [
        "We will do the tokenization of the words persent in the dataset. Tokenizer will split the data which will then be used for mapping as a numeric vector by \n",
        "the help of glove."
      ]
    },
    {
      "cell_type": "code",
      "metadata": {
        "colab": {
          "base_uri": "https://localhost:8080/"
        },
        "id": "JdqG9tuv3Dmo",
        "outputId": "1179f483-9c72-4ae2-dc0d-b3a4f27e5384"
      },
      "source": [
        "tokenlist = []\n",
        "tokenlist.append(dataset['title'])\n",
        "tokenlist.append(dataset['brand'])\n",
        "tokenlist = np.ravel(tokenlist)\n",
        "print(tokenlist)"
      ],
      "execution_count": null,
      "outputs": [
        {
          "output_type": "stream",
          "text": [
            "['Galt Shape Puzzle Emergency Vehicles Baby/Toddler/Child Jigsaw Shapes BNIB'\n",
            " 'BRIO Magnetic Building Wooden Blocks Toddler Activity Toy Ages 1+ NEW'\n",
            " 'NEW GRAFIX 6PCS METALLIC FABRIC PAINT PEN MARKER T SHIRT CLOTHES ART 6 COLOUR'\n",
            " ... 'FOLKESPEARE' 'FOLKESPEARE' 'TOOTAL']\n"
          ],
          "name": "stdout"
        }
      ]
    },
    {
      "cell_type": "code",
      "metadata": {
        "id": "Xxdx0AZmp-OF"
      },
      "source": [
        "featurestoCare = 20000\n",
        "tokens = Tokenizer(num_words=featurestoCare)\n",
        "tokens.fit_on_texts(tokenlist)\n",
        "x = tokens.texts_to_sequences(dataset['title'].values)\n",
        "x = pad_sequences(x)\n"
      ],
      "execution_count": null,
      "outputs": []
    },
    {
      "cell_type": "code",
      "metadata": {
        "id": "jofJVTjGuZGH"
      },
      "source": [
        "y = dataset['brand'].values\n",
        "y = tokens.texts_to_sequences(y)\n",
        "y = pad_sequences(y)"
      ],
      "execution_count": null,
      "outputs": []
    },
    {
      "cell_type": "markdown",
      "metadata": {
        "id": "zOlHu557cuYn"
      },
      "source": [
        "Train-Test Data Splitting"
      ]
    },
    {
      "cell_type": "code",
      "metadata": {
        "id": "0hgvKAlouOJh"
      },
      "source": [
        "X_train, X_test, y_train, y_test = train_test_split(x, y, test_size=0.1,random_state=44)"
      ],
      "execution_count": null,
      "outputs": []
    },
    {
      "cell_type": "markdown",
      "metadata": {
        "id": "h-bVXf4uc-pb"
      },
      "source": [
        "Word Embedding"
      ]
    },
    {
      "cell_type": "code",
      "metadata": {
        "id": "ZLG8z03eurHy"
      },
      "source": [
        "embeddings_index = {}\n",
        "\n",
        "# Glove Embedding Link: https://nlp.stanford.edu/projects/glove/\n",
        "f = open('/content/drive/MyDrive/glove.6B.300d.txt') #Glove Embedding File \n",
        "for line in f:\n",
        "    values = line.split()\n",
        "    word = values[0]\n",
        "    coefs = np.asarray(values[1:], dtype='float32')\n",
        "    embeddings_index[word] = coefs\n",
        "f.close()"
      ],
      "execution_count": null,
      "outputs": []
    },
    {
      "cell_type": "code",
      "metadata": {
        "colab": {
          "base_uri": "https://localhost:8080/"
        },
        "id": "9I3b6UxAvfiS",
        "outputId": "53c395b8-9387-4324-fbdb-7ba51db73f81"
      },
      "source": [
        "word_index = tokens.word_index\n",
        "print('Found %s unique tokens.' % len(word_index))"
      ],
      "execution_count": null,
      "outputs": [
        {
          "output_type": "stream",
          "text": [
            "Found 33726 unique tokens.\n"
          ],
          "name": "stdout"
        }
      ]
    },
    {
      "cell_type": "code",
      "metadata": {
        "id": "j6LZBy7qvq0q"
      },
      "source": [
        "embedding_dim = 300\n",
        "num_words = min(featurestoCare, len(word_index)) + 1\n",
        "# first create a matrix of zeros, this is our embedding matrix\n",
        "embedding_matrix = np.zeros((num_words, embedding_dim))\n",
        "# for each word in out tokenizer lets try to find that work in our w2v model\n",
        "for word, i in word_index.items():\n",
        "    if i >= num_words:\n",
        "        continue\n",
        "    embedding_vector = embeddings_index.get(word)\n",
        "    if embedding_vector is not None:\n",
        "        # we found the word - add that words vector to the matrix\n",
        "        embedding_matrix[i] = embedding_vector\n",
        "    elif embedding_vector is None:\n",
        "        # doesn't exist, assign a random vector\n",
        "        embedding_matrix[i] = np.random.randn(embedding_dim)\n",
        "\n"
      ],
      "execution_count": null,
      "outputs": []
    },
    {
      "cell_type": "code",
      "metadata": {
        "id": "ym3_DCZADdGU"
      },
      "source": [
        "T = X_train.shape[1]"
      ],
      "execution_count": null,
      "outputs": []
    },
    {
      "cell_type": "markdown",
      "metadata": {
        "id": "0sJoSCawdR0q"
      },
      "source": [
        "Bi-LSTM Model"
      ]
    },
    {
      "cell_type": "code",
      "metadata": {
        "colab": {
          "base_uri": "https://localhost:8080/"
        },
        "id": "V8tmswBN0WSp",
        "outputId": "344dedff-27a7-46c7-b63d-d9422c000786"
      },
      "source": [
        "model = Sequential()\n",
        "# Embedding Layer \n",
        "model.add(Embedding(num_words,\n",
        "                    embedding_dim,\n",
        "                    embeddings_initializer=Constant(embedding_matrix),\n",
        "                    input_length=T,\n",
        "                    trainable=True))\n",
        "\n",
        "# Bi_LSTM Layer\n",
        "model.add(Bidirectional(LSTM(100,return_sequences=True, go_backwards= True)))\n",
        "model.add((LSTM(100, go_backwards= True)))\n",
        "\n",
        "#Dense Layer\n",
        "model.add(Dense(5, activation = 'relu'))\n",
        "\n",
        "#Optimizer\n",
        "Nadam = tf.keras.optimizers.Nadam(learning_rate=1.5)\n",
        "\n",
        "#Model Compilation\n",
        "model.compile(loss = 'hinge', optimizer=Nadam,metrics = ['accuracy'])\n",
        "print(model.summary())"
      ],
      "execution_count": null,
      "outputs": [
        {
          "output_type": "stream",
          "text": [
            "Model: \"sequential\"\n",
            "_________________________________________________________________\n",
            "Layer (type)                 Output Shape              Param #   \n",
            "=================================================================\n",
            "embedding (Embedding)        (None, 21, 300)           6000300   \n",
            "_________________________________________________________________\n",
            "bidirectional (Bidirectional (None, 21, 200)           320800    \n",
            "_________________________________________________________________\n",
            "lstm_1 (LSTM)                (None, 100)               120400    \n",
            "_________________________________________________________________\n",
            "dense (Dense)                (None, 5)                 505       \n",
            "=================================================================\n",
            "Total params: 6,442,005\n",
            "Trainable params: 6,442,005\n",
            "Non-trainable params: 0\n",
            "_________________________________________________________________\n",
            "None\n"
          ],
          "name": "stdout"
        }
      ]
    },
    {
      "cell_type": "code",
      "metadata": {
        "colab": {
          "base_uri": "https://localhost:8080/"
        },
        "id": "odHFMAOgt6qH",
        "outputId": "b2f28a86-f327-44a0-ef99-f4acb4dbaf6d"
      },
      "source": [
        "#Trainining Data\n",
        "print(X_train)"
      ],
      "execution_count": null,
      "outputs": [
        {
          "output_type": "stream",
          "text": [
            "[[   0    0    0 ... 1284 1199  213]\n",
            " [   0    0    0 ...    3   13   15]\n",
            " [   0    0    0 ...  988 6484 3694]\n",
            " ...\n",
            " [   0    0    0 ... 3305  783  153]\n",
            " [   0    0    0 ... 1207  120   95]\n",
            " [   0    0    0 ...  295 1474  452]]\n"
          ],
          "name": "stdout"
        }
      ]
    },
    {
      "cell_type": "code",
      "metadata": {
        "id": "dXTHcpQm09D3",
        "colab": {
          "base_uri": "https://localhost:8080/"
        },
        "outputId": "057d5259-098b-41a2-86f8-5147e27c183a"
      },
      "source": [
        "y_train.shape"
      ],
      "execution_count": null,
      "outputs": [
        {
          "output_type": "execute_result",
          "data": {
            "text/plain": [
              "(27000, 5)"
            ]
          },
          "metadata": {
            "tags": []
          },
          "execution_count": 18
        }
      ]
    },
    {
      "cell_type": "markdown",
      "metadata": {
        "id": "fEw4y6XiexL7"
      },
      "source": [
        "Model Fitting"
      ]
    },
    {
      "cell_type": "code",
      "metadata": {
        "colab": {
          "base_uri": "https://localhost:8080/"
        },
        "id": "IIk8gyMC0o3k",
        "outputId": "4e9838db-58b8-47d5-c5b7-6f65af78f8b7"
      },
      "source": [
        "history = model.fit(X_train, y_train, validation_data=(X_test, y_test), epochs=3)"
      ],
      "execution_count": null,
      "outputs": [
        {
          "output_type": "stream",
          "text": [
            "Epoch 1/3\n",
            "844/844 [==============================] - 122s 139ms/step - loss: 0.8002 - accuracy: 0.8953 - val_loss: 0.7995 - val_accuracy: 0.9073\n",
            "Epoch 2/3\n",
            "844/844 [==============================] - 114s 135ms/step - loss: 0.7997 - accuracy: 0.9007 - val_loss: 0.7995 - val_accuracy: 0.9073\n",
            "Epoch 3/3\n",
            "844/844 [==============================] - 114s 135ms/step - loss: 0.7997 - accuracy: 0.9001 - val_loss: 0.7995 - val_accuracy: 0.9073\n"
          ],
          "name": "stdout"
        }
      ]
    },
    {
      "cell_type": "markdown",
      "metadata": {
        "id": "mU0BBOqae0p9"
      },
      "source": [
        "Prediction in Vector"
      ]
    },
    {
      "cell_type": "code",
      "metadata": {
        "id": "RPH4_CctTK-I"
      },
      "source": [
        "ypre = model.predict(X_test)"
      ],
      "execution_count": null,
      "outputs": []
    },
    {
      "cell_type": "code",
      "metadata": {
        "colab": {
          "base_uri": "https://localhost:8080/"
        },
        "id": "1Aauib0gTV1c",
        "outputId": "c4281c9d-b00a-4f04-9d11-f6dd9fcfa2ae"
      },
      "source": [
        "print(ypre)"
      ],
      "execution_count": null,
      "outputs": [
        {
          "output_type": "stream",
          "text": [
            "[[  0.          0.7851577   0.          0.        143.4151   ]\n",
            " [  0.          0.7431967   0.          0.        144.58968  ]\n",
            " [  0.          0.7772007   0.          0.        143.95114  ]\n",
            " ...\n",
            " [  0.          0.7855067   0.          0.        143.77292  ]\n",
            " [  0.          0.696684    0.          0.        139.81114  ]\n",
            " [  0.          0.4439757   0.          0.        149.30191  ]]\n"
          ],
          "name": "stdout"
        }
      ]
    },
    {
      "cell_type": "code",
      "metadata": {
        "id": "fN6YzIkJ7d1z"
      },
      "source": [
        "len = ypre.shape[0]"
      ],
      "execution_count": null,
      "outputs": []
    },
    {
      "cell_type": "markdown",
      "metadata": {
        "id": "mLD-Ry6KfRYU"
      },
      "source": [
        "Converting the prediction from float to integer"
      ]
    },
    {
      "cell_type": "code",
      "metadata": {
        "id": "i2I8TJF4lxzZ"
      },
      "source": [
        "i=0\n",
        "while i< len:\n",
        "  ypre[i][4] = round(ypre[i][4])\n",
        "  ypre[i][3] = round(ypre[i][3])\n",
        "  ypre[i][2] = round(ypre[i][2])\n",
        "  ypre[i][1] = round(ypre[i][1])\n",
        "  ypre[i][0] = round(ypre[i][0])\n",
        "  i = i+1"
      ],
      "execution_count": null,
      "outputs": []
    },
    {
      "cell_type": "markdown",
      "metadata": {
        "id": "0FHdcL_AfWEC"
      },
      "source": [
        "Vector to Word"
      ]
    },
    {
      "cell_type": "code",
      "metadata": {
        "id": "WSMsCciUTbRR"
      },
      "source": [
        "predicted = tokens.sequences_to_texts(ypre)"
      ],
      "execution_count": null,
      "outputs": []
    },
    {
      "cell_type": "markdown",
      "metadata": {
        "id": "at7mcKPCfaEX"
      },
      "source": [
        "Prediction in Words"
      ]
    },
    {
      "cell_type": "code",
      "metadata": {
        "colab": {
          "base_uri": "https://localhost:8080/"
        },
        "id": "-GP4lj0MGTbW",
        "outputId": "fe5f4d74-8e13-4998-b699-9c63464251cf"
      },
      "source": [
        "print(predicted)"
      ],
      "execution_count": null,
      "outputs": [
        {
          "output_type": "stream",
          "text": [
            "['mens hdd', 'mens small', 'mens 4gb', 'mens hdd', '15', 'mens small', 'mens sas', 'mens 4gb', 'mens 4gb', 'mens hdd', 'mens 4gb', 'mens motorola', 'mens 4gb', 'mens 4gb', 'mens 4gb', 'hard', 'mens 4gb', 'hard', 'hard', 'mens motorola', 'mens shoes', 'mens sas', 'hard', 'mens motorola', 'mens sas', 'mens 4gb', 'mens small', 'mens pair', 'hard', 'mens hdd', 'mens 4gb', 'mens hdd', 'mens motorola', 'hard', 'mens 4gb', 'mens motorola', 'hard', 'mens sas', 'mens 4gb', 'mens hdd', 'hard', 'mens 4gb', 'hard', 'mens motorola', 'mens pair', 'mens 4gb', 'hard', 'mens hdd', 'sas', 'mens 4gb', 'mens 4gb', 'mens 4gb', 'mens hdd', 'hard', 'mens sas', 'mens hdd', 'mens hdd', 'mens small', 'mens hdd', 'mens sas', 'mens hdd', 'mens 4gb', 'mens motorola', 'hdd', 'mens hdd', 'hard', 'mens 4gb', 'mens hdd', 'hard', 'mens 4gb', 'mens 4gb', 'hard', 'mens 4gb', 'mens hdd', 'hard', 'mens 4gb', 'mens hdd', 'hard', 'hard', 'mens hdd', 'mens 4gb', 'mens hdd', 'mens hdd', 'hard', 'mens 4gb', 'mens hdd', 'mens 4gb', 'hard', 'shoes', 'mens motorola', 'mens 4gb', 'mens 4gb', 'mens 4gb', 'mens 4gb', 'mens hdd', 'mens 4gb', 'hard', 'mens 4gb', 'mens 4gb', 'mens shoes', 'mens hdd', 'mens hdd', 'mens hdd', 'mens sas', 'mens caterpillar', 'mens 4gb', 'hard', 'hard', 'mens hdd', 'mens motorola', 'mens 4gb', 'mens motorola', 'magic', 'mens hdd', 'mens sas', 'mens 4gb', 'mens 4gb', 'mens hdd', 'mens hdd', 'mens 4gb', 'mens magic', 'mens 4gb', 'mens shoes', 'mens 4gb', 'motorola', 'hard', 'mens pair', 'hard', 'hard', 'mens 4gb', 'mens sas', 'mens hdd', 'mens 4gb', 'nail', 'mens 4gb', 'mens 4gb', 'mens hdd', 'mens hdd', 'hard', 'mens hdd', 'hard', 'mens shoes', 'mens hdd', 'mens 4gb', 'mens magic', 'mens 4gb', 'hard', 'mens 4gb', 'mens hdd', 'mens 4gb', 'mens 4gb', 'mens 4gb', 'mens 4gb', 'hard', 'shoes', 'mens hdd', 'mens hdd', 'mens 4gb', 'mens hdd', 'mens 4gb', 'mens hdd', 'mens 4gb', 'mens hdd', 'hard', 'motorola', 'mens motorola', 'mens 4gb', 'mens 4gb', 'mens hdd', 'mens sas', 'mens 4gb', 'mens small', 'hard', 'mens shoes', 'mens shoes', 'mens sas', 'hard', 'mens 4gb', 'mens 4gb', 'hard', 'hard', 'mens 4gb', 'mens 4gb', 'mens 4gb', 'mens motorola', 'mens 4gb', 'mens small', 'shoes', 'hard', 'mens pair', 'mens 4gb', 'mens hdd', 'mens 4gb', 'mens 4gb', 'mens 4gb', 'mens 4gb', 'mens 4gb', 'mens 4gb', 'hard', 'mens hdd', 'mens hdd', 'shoes', 'shoes', 'mens hdd', 'mens 4gb', 'mens 4gb', 'mens 4gb', 'mens 4gb', 'mens sas', 'mens hdd', 'mens hdd', 'mens sas', 'mens hdd', 'mens hdd', 'hard', 'mens motorola', 'mens hdd', 'hdd', 'mens hdd', 'mens 4gb', 'sas', 'mens hdd', 'hard', 'mens shoes', 'mens 4gb', 'hard', 'mens shoes', 'hard', 'hard', 'mens motorola', 'mens shoes', 'mens 4gb', 'mens hdd', 'mens small', 'mens 4gb', 'mens small', 'mens 4gb', 'hard', 'mens 4gb', 'hard', 'motorola', 'hard', 'mens 4gb', 'hard', 'mens 4gb', 'mens 4gb', 'hard', 'mens sas', 'mens 4gb', 'hard', 'mens 4gb', 'mens pair', 'hard', 'mens hdd', 'mens 4gb', 'mens hdd', 'mens sas', 'mens shoes', 'mens 4gb', 'mens hdd', 'mens hdd', 'mens 4gb', 'mens magic', 'mens 4gb', 'mens hdd', 'mens hdd', 'hard', 'mens 4gb', 'mens motorola', 'hard', 'hard', 'mens sas', 'mens 4gb', 'mens hdd', 'mens sas', 'mens hdd', 'mens sas', 'mens 4gb', 'mens sas', 'hard', 'mens motorola', 'mens small', 'mens hdd', 'hard', 'mens motorola', 'mens shoes', 'mens sas', 'mens sas', 'mens 4gb', 'mens 4gb', 'mens sas', 'mens shoes', 'hard', 'mens hdd', 'mens sas', 'mens 4gb', '4gb', 'mens 4gb', 'nail', 'hard', 'mens 4gb', 'mens 4gb', 'mens sas', 'mens shoes', 'mens hdd', 'mens hdd', 'mens g', 'hard', 'mens 4gb', 'mens hdd', 'hard', 'hard', 'hard', 'mens hdd', 'mens 4gb', 'mens 4gb', 'mens hdd', 'hard', 'mens 4gb', 'mens hdd', 'mens small', 'mens hdd', 'mens hdd', 'mens 4gb', 'mens motorola', 'mens sas', 'mens hdd', 'mens hdd', 'mens 4gb', 'mens magic', 'mens 4gb', 'shoes', 'mens 4gb', 'mens hdd', 'hard', 'mens 4gb', 'mens hdd', 'mens pair', 'mens 4gb', 'mens motorola', 'mens shoes', 'mens 4gb', 'mens hdd', 'mens 4gb', 'hard', 'mens 4gb', 'hard', 'mens hdd', 'hard', 'hard', 'mens hdd', 'mens 4gb', 'sas', 'mens small', 'mens 4gb', 'mens sas', 'mens 4gb', 'mens 4gb', 'hard', 'mens 4gb', 'mens 4gb', 'hard', 'mens 4gb', 'hard', 'mens pair', 'mens hdd', 'mens motorola', 'caterpillar', 'mens hdd', 'mens hdd', 'mens 4gb', 'mens 4gb', 'sas', 'hard', 'mens 4gb', 'hard', 'mens 4gb', 'sas', 'mens motorola', 'hard', 'mens 4gb', 'mens 4gb', 'mens motorola', 'mens magic', 'hard', 'mens hdd', 'mens 4gb', 'mens motorola', 'hard', 'hard', 'mens 4gb', 'mens hdd', 'mens 4gb', 'mens 4gb', 'mens hdd', 'mens 4gb', 'mens sas', 'mens motorola', 'shoes', 'mens motorola', 'hard', 'mens 4gb', 'mens 4gb', 'hard', 'mens small', 'mens motorola', 'mens sas', 'mens 4gb', 'hard', 'mens hdd', 'mens 4gb', 'hard', 'mens sas', 'mens hdd', 'mens 4gb', 'mens 4gb', 'mens shoes', 'mens 4gb', 'hard', 'hard', 'mens 4gb', 'mens 4gb', 'mens motorola', 'sas', 'hard', 'hard', 'hard', 'mens 4gb', 'mens plush', 'mens 4gb', 'mens 4gb', 'mens 4gb', 'hard', 'mens 4gb', 'mens 4gb', 'mens hdd', 'shoes', 'mens hdd', 'mens hdd', 'mens 4gb', 'nail', 'mens 4gb', 'mens 4gb', 'mens motorola', 'mens 4gb', 'hard', 'hard', 'mens sas', 'hard', 'mens hdd', 'mens 4gb', 'mens hdd', 'mens 4gb', 'mens 4gb', 'mens classic', 'hard', 'mens sas', 'mens 4gb', 'mens hdd', 'pair', 'mens motorola', 'hard', 'mens 4gb', 'mens sas', 'mens 4gb', 'mens hdd', 'mens hdd', 'mens pair', 'mens hdd', 'hard', 'mens 4gb', 'mens shoes', 'mens 4gb', 'mens sas', 'hard', 'mens sas', 'mens 4gb', 'mens sas', 'hard', 'mens magic', 'mens hdd', 'mens sas', 'mens hdd', 'mens hdd', 'mens shoes', 'hard', 'mens small', 'hard', 'shoes', 'mens 4gb', 'mens 4gb', 'mens hdd', 'mens motorola', 'hard', 'mens pair', 'mens motorola', 'hdd', 'mens gift', 'mens hdd', 'mens sas', 'mens shoes', 'mens hdd', 'mens hdd', 'hard', 'hard', 'mens sas', 'mens hdd', 'mens g', 'hard', 'mens 4gb', 'hard', 'mens 4gb', 'hard', 'mens hdd', 'mens 4gb', 'mens hdd', 'mens 4gb', 'mens shoes', 'hard', 'hard', 'mens sas', 'mens hdd', 'hard', 'mens small', 'hard', 'mens hdd', 'mens motorola', 'mens 4gb', 'mens hdd', 'mens 4gb', 'mens sas', 'hard', 'mens hdd', 'mens motorola', 'nail', 'hard', 'mens sas', 'mens motorola', 'mens 4gb', 'mens 4gb', 'mens hdd', 'mens motorola', 'mens 4gb', 'mens 4gb', 'mens 4gb', 'hard', 'mens hdd', 'mens 4gb', 'gift', 'mens pair', 'hdd', 'hard', 'mens 4gb', 'mens 4gb', 'mens hdd', 'gift', 'hard', 'mens motorola', 'mens hdd', 'mens hdd', 'mens 4gb', 'mens 4gb', 'shoes', 'mens motorola', 'mens hdd', 'mens hdd', 'mens 4gb', 'mens pair', 'mens magic', 'mens 4gb', 'mens sas', 'mens hdd', 'mens 4gb', 'mens 4gb', 'mens hdd', 'mens 4gb', 'mens hdd', 'mens pair', 'hard', 'mens shoes', 'mens hdd', 'mens hdd', 'small', 'sas', 'mens 4gb', 'mens 4gb', 'mens hdd', 'mens motorola', 'mens 4gb', 'mens 4gb', 'mens shoes', 'mens small', 'mens sas', 'mens 4gb', 'mens hdd', 'mens hdd', 'mens shoes', 'mens magic', 'mens 4gb', 'mens motorola', 'mens hdd', 'mens motorola', 'mens 4gb', 'mens hdd', 'mens sas', 'hard', 'mens 4gb', 'mens hdd', 'mens motorola', 'mens 4gb', 'shoes', 'mens 4gb', 'mens sas', 'mens hdd', 'mens 4gb', 'mens 4gb', 'mens 4gb', 'mens motorola', 'mens small', 'sas', 'mens hdd', 'mens 4gb', 'mens motorola', 'mens motorola', 'mens shoes', 'mens 4gb', 'hard', 'sas', 'mens hdd', 'mens hdd', 'mens hdd', 'hard', 'mens motorola', 'mens hdd', 'mens 4gb', 'hard', 'mens shoes', 'mens sas', 'mens 4gb', 'hard', 'mens 4gb', 'hard', 'mens caterpillar', 'mens 4gb', 'mens hdd', 'mens 4gb', 'mens 4gb', 'mens 4gb', 'mens 4gb', 'hard', 'mens 4gb', 'mens sas', 'hard', 'mens hdd', 'mens hdd', 'mens motorola', 'mens 4gb', 'shoes', 'motorola', 'hard', 'mens 4gb', 'mens hdd', 'mens hdd', 'mens pair', 'mens sas', 'small', 'mens small', 'gift', 'hard', 'mens sas', 'mens small', 'hard', 'mens magic', 'mens sas', 'hard', 'mens magic', 'mens 4gb', 'hard', 'mens motorola', 'mens 4gb', 'mens pair', 'mens shoes', 'mens 4gb', 'shoes', 'mens motorola', 'hdd', 'mens 4gb', 'hard', 'mens hdd', 'mens motorola', 'mens motorola', 'hard', 'mens hdd', 'hard', 'hard', 'sas', 'mens hdd', 'mens hdd', 'mens hdd', 'mens small', 'mens sas', 'mens magic', 'mens hdd', 'mens 4gb', 'mens hdd', 'mens vintage', 'mens 4gb', 'mens sas', 'mens sas', 'mens sas', 'mens 4gb', 'hard', 'hard', 'mens 4gb', 'mens 4gb', 'hard', 'mens 4gb', 'slim', 'mens sas', 'mens hdd', 'mens hdd', 'shoes', 'mens sas', 'mens hdd', 'mens 4gb', 'mens 4gb', 'mens small', 'mens 4gb', 'mens sas', 'mens sas', 'mens hdd', 'mens 4gb', 'mens pair', 'sas', 'shoes', 'mens pair', 'mens 4gb', 'hdd', 'hard', 'mens motorola', 'mens motorola', 'magic', 'mens hdd', 'hard', 'mens sas', 'mens pair', 'mens 4gb', 'mens sas', 'mens hdd', 'sas', 'mens hdd', 'mens 4gb', 'mens 4gb', 'mens magic', 'hard', 'shoes', 'mens 4gb', 'mens 4gb', 'mens 4gb', 'mens motorola', 'mens pair', 'mens motorola', 'mens 4gb', 'hard', 'mens motorola', 'hard', 'mens hdd', 'mens g', 'mens motorola', '4gb', 'hard', 'hard', 'mens 4gb', 'mens 4gb', 'hard', 'mens hdd', 'hard', 'mens g', 'hard', 'sas', 'mens 4gb', 'mens 4gb', 'mens slim', 'mens hdd', 'hard', 'mens hdd', 'mens 4gb', 'hard', 'mens 4gb', 'mens 4gb', 'mens 4gb', 'mens hdd', 'mens hdd', 'mens 4gb', 'mens hdd', 'mens hdd', 'mens sas', 'hard', 'hard', 'mens shoes', 'mens classic', 'mens small', 'hard', 'mens sas', 'mens hdd', 'mens 4gb', 'mens hdd', 'motorola', 'hard', 'mens 4gb', 'mens 4gb', 'mens 4gb', 'mens 4gb', 'mens 4gb', 'mens 4gb', 'sas', 'hard', 'mens 4gb', 'hard', 'mens hdd', 'hdd', 'mens hdd', 'hard', 'mens motorola', 'mens 4gb', '15', 'mens motorola', 'mens 4gb', 'mens magic', 'mens g', 'mens shoes', 'mens hdd', 'mens 4gb', 'mens sas', 'mens 4gb', 'mens motorola', 'mens motorola', 'mens motorola', 'mens hdd', 'hard', 'mens hdd', 'mens hdd', 'mens sas', 'hard', 'mens 4gb', 'mens 4gb', 'hard', 'mens plush', 'mens 4gb', 'sas', 'mens hdd', 'mens hard', '4gb', 'mens hdd', 'mens small', 'mens shoes', 'mens sas', 'mens 4gb', 'mens 4gb', 'mens sas', 'motorola', 'hard', 'mens motorola', 'hard', 'hard', 'mens 4gb', 'mens motorola', 'mens hdd', 'mens sas', 'small', 'mens hdd', 'hard', 'mens shoes', 'mens hdd', 'hard', 'small', 'mens 4gb', 'mens 4gb', 'mens hdd', 'mens hdd', 'mens 4gb', 'mens hdd', 'mens 4gb', 'mens hdd', 'mens hdd', 'hard', 'mens 4gb', 'mens 4gb', 'hard', 'mens hdd', 'mens hdd', 'mens classic', 'mens 4gb', 'mens motorola', 'mens small', 'mens 4gb', 'hard', 'mens motorola', 'mens 4gb', 'mens sas', 'hard', 'mens 4gb', 'mens hdd', 'mens hdd', 'mens motorola', 'mens 4gb', 'mens hdd', 'mens sas', 'mens 4gb', 'hard', 'mens 4gb', 'mens hdd', 'mens 4gb', 'hard', 'mens motorola', 'shoes', 'mens g', 'mens small', 'mens hdd', 'hdd', 'mens 4gb', 'g', 'mens 4gb', 'hard', 'hard', 'mens 4gb', 'mens 4gb', 'mens 4gb', 'mens 4gb', 'hard', 'mens 4gb', 'mens caterpillar', 'mens 4gb', 'mens 4gb', 'hard', 'hard', 'mens pair', 'mens 4gb', 'mens 4gb', 'mens magic', 'mens sas', 'mens sas', 'mens 4gb', 'hard', 'mens hdd', 'mens 4gb', 'mens 4gb', 'mens hdd', 'mens 4gb', 'hard', 'mens pair', 'mens 4gb', 'mens 4gb', 'mens 4gb', 'mens pair', 'mens 4gb', 'mens motorola', 'hard', 'motorola', 'mens 4gb', 'sas', 'mens hdd', 'mens 4gb', 'hard', 'mens hdd', 'mens small', 'hard', 'hard', 'hard', 'mens motorola', 'mens motorola', 'mens hdd', 'mens 4gb', 'mens hdd', 'mens shoes', 'mens 4gb', 'mens motorola', 'hard', 'hdd', 'mens 4gb', 'mens motorola', 'mens small', 'mens sas', 'mens slim', 'pair', 'mens sas', 'mens small', 'mens 4gb', 'mens hdd', 'mens hdd', 'mens sas', 'mens small', 'mens hdd', 'sas', 'mens 4gb', 'mens 4gb', 'hard', 'hard', 'hard', 'mens shoes', 'hard', 'mens small', 'hard', 'hard', 'hard', 'mens 4gb', 'mens motorola', 'shoes', 'mens magic', 'mens hdd', 'hard', 'mens motorola', 'mens motorola', 'shoes', 'mens sas', 'mens small', 'mens pair', 'hard', 'mens hdd', 'sas', 'mens hdd', 'mens 4gb', 'caterpillar', 'mens 4gb', 'mens sas', 'hard', 'mens 4gb', 'mens 4gb', 'hard', 'mens 4gb', 'mens motorola', 'mens hdd', 'mens sas', 'motorola', 'pair', 'mens hdd', 'mens pair', 'mens 4gb', 'hard', 'mens 4gb', 'mens 4gb', 'mens hdd', 'mens hdd', '4gb', 'hard', 'mens sas', 'mens sas', 'mens 4gb', 'mens hdd', 'mens motorola', 'mens hdd', 'mens hdd', 'mens 4gb', 'mens 4gb', 'mens motorola', 'mens hdd', 'mens sas', 'mens hdd', 'mens 4gb', 'hard', 'mens pair', 'motorola', 'mens hdd', 'mens hdd', 'mens hdd', 'mens hdd', 'motorola', 'mens small', 'mens motorola', 'mens hdd', 'mens 4gb', 'small', 'hard', 'mens 4gb', 'hard', 'mens brief', 'hard', 'mens hdd', 'mens sas', 'mens 4gb', 'mens 4gb', 'mens hdd', 'mens shoes', 'mens motorola', 'hard', 'mens sas', 'sas', 'hard', 'mens hdd', 'mens hdd', 'mens g', 'mens 4gb', 'mens shoes', 'mens hdd', 'mens motorola', 'mens 4gb', 'mens motorola', 'hard', 'hard', 'mens 4gb', 'mens 4gb', 'mens shoes', 'mens sas', 'mens 4gb', 'mens hdd', 'mens motorola', 'hard', 'hard', 'mens hdd', 'hard', 'mens small', 'mens hdd', 'mens 4gb', 'mens hdd', 'mens 4gb', 'mens 4gb', 'hard', 'mens hdd', 'mens 4gb', 'mens 4gb', 'mens shoes', 'mens shoes', 'motorola', 'mens 4gb', 'mens sas', 'mens shoes', 'mens 4gb', 'mens motorola', 'mens 4gb', 'mens pair', 'hard', 'hard', 'mens motorola', 'mens pair', 'mens pair', 'mens sas', 'hard', 'mens motorola', 'mens motorola', 'mens 4gb', 'mens 4gb', 'mens small', 'shoes', 'mens 4gb', 'mens hdd', 'mens 4gb', 'mens 4gb', 'mens hdd', 'mens 4gb', 'mens motorola', 'mens 4gb', 'hard', 'shoes', 'mens 4gb', 'mens motorola', 'hard', 'mens motorola', 'hard', 'mens 4gb', 'mens hdd', 'mens shoes', 'mens 4gb', 'mens motorola', 'mens hdd', 'mens 4gb', 'mens hdd', 'mens 4gb', 'mens sas', 'mens motorola', 'hard', 'shoes', 'mens hdd', 'mens cards', 'mens slim', 'hard', 'mens 4gb', 'mens 4gb', 'mens sas', 'hdd', 'hard', 'mens 4gb', 'mens pair', 'mens 4gb', 'mens 4gb', 'mens 4gb', 'mens classic', 'mens hdd', 'mens hdd', 'mens 4gb', 'mens motorola', 'mens motorola', 'mens 4gb', 'mens 4gb', 'mens hdd', 'mens hdd', 'mens small', 'mens hdd', 'hard', 'mens hdd', 'mens sas', 'mens 4gb', 'mens 4gb', 'mens hdd', 'hard', 'mens 4gb', 'mens pair', 'mens hdd', 'mens 4gb', 'mens 4gb', 'hard', 'mens hdd', 'mens 4gb', 'mens 4gb', 'mens 4gb', 'mens hdd', 'mens motorola', 'mens motorola', 'mens hard', 'mens 4gb', 'mens sas', 'hard', 'mens hdd', 'hard', 'mens sas', 'mens hdd', 'mens hdd', 'hard', 'mens hdd', 'mens 4gb', 'mens small', 'mens hdd', 'hard', 'mens small', 'mens magic', 'mens 4gb', 'mens 4gb', 'mens shoes', 'mens 4gb', 'mens shoes', 'sas', 'mens hdd', 'shoes', 'mens small', 'mens classic', 'mens 4gb', 'mens motorola', 'mens hdd', 'hard', 'mens 4gb', 'hard', 'mens hdd', 'hdd', 'mens motorola', 'mens gift', 'mens hdd', 'mens motorola', 'hard', 'mens hdd', 'motorola', 'mens hdd', 'mens hdd', 'mens motorola', 'hard', 'mens 4gb', 'sas', 'mens 4gb', 'mens caterpillar', 'mens motorola', 'mens sas', 'mens 4gb', 'hard', 'mens 4gb', 'mens hdd', 'mens magic', 'mens hdd', 'hard', 'mens hdd', 'mens hdd', 'hard', 'mens 4gb', 'mens hdd', 'mens sas', 'hard', 'motorola', 'mens 4gb', 'mens 4gb', 'mens hdd', 'mens motorola', 'mens 4gb', 'mens pair', 'mens small', 'mens hdd', 'mens sas', 'mens 4gb', 'mens hdd', 'mens hdd', 'mens hdd', 'mens hdd', 'hard', 'mens 4gb', 'hard', 'mens 4gb', 'mens sas', 'mens hdd', 'mens small', 'mens hdd', 'hard', 'mens motorola', 'motorola', 'mens 4gb', 'mens 4gb', 'mens 4gb', 'mens 4gb', 'hdd', 'mens hdd', 'mens motorola', 'mens hdd', 'hard', 'mens shoes', 'hard', 'mens motorola', 'hard', 'mens 4gb', 'mens hdd', 'mens motorola', 'sas', 'mens 4gb', 'mens hdd', 'mens 4gb', 'hard', 'mens hdd', 'mens 4gb', 'mens sas', 'mens hdd', 'sas', 'mens hdd', 'sas', 'mens hdd', 'mens 4gb', 'hard', 'mens 4gb', 'hard', 'mens motorola', 'mens 4gb', 'mens 4gb', 'mens 4gb', 'mens 4gb', 'mens magic', 'mens 4gb', 'mens hdd', 'mens motorola', 'hard', 'mens motorola', 'mens hdd', 'mens hdd', 'mens small', 'hard', 'mens shoes', 'mens 4gb', 'shoes', 'mens 4gb', 'mens 4gb', 'mens sas', 'mens 4gb', 'mens hdd', 'mens 4gb', 'hard', 'mens 4gb', 'mens 4gb', 'shoes', 'mens hdd', 'slim', 'mens hdd', 'mens 4gb', 'mens 4gb', 'mens sas', 'mens motorola', 'mens hdd', 'mens motorola', 'mens classic', 'motorola', 'mens sas', 'mens 4gb', 'mens 4gb', 'mens hdd', 'mens 4gb', 'mens pair', 'hard', 'mens 4gb', 'mens 4gb', 'mens 4gb', 'mens 4gb', 'hard', 'mens hdd', 'mens 4gb', 'mens magic', 'mens hdd', 'mens shoes', 'hard', 'mens hdd', 'hard', 'mens 4gb', 'mens magic', 'mens small', 'mens small', 'nail', 'mens shoes', 'mens 4gb', 'mens hdd', 'mens sas', 'mens small', 'mens magic', 'mens 4gb', 'mens magic', 'mens sas', 'hard', 'mens 4gb', 'mens 4gb', 'mens 4gb', 'mens 4gb', 'mens 4gb', 'mens sas', 'mens hdd', 'mens 4gb', 'mens 4gb', 'mens hdd', 'mens 4gb', 'mens hdd', 'hard', 'mens sas', 'mens 4gb', 'mens hdd', 'mens 4gb', 'mens hdd', 'mens pair', 'mens magic', 'mens 4gb', 'shoes', 'mens small', 'mens sas', 'mens hdd', 'mens 4gb', 'mens hdd', 'mens hdd', 'mens hdd', 'mens 4gb', 'mens sas', 'sas', 'mens hdd', 'mens hdd', 'mens hdd', 'mens 4gb', 'mens small', 'mens 4gb', 'mens 4gb', 'mens 4gb', 'mens 4gb', 'mens hdd', 'mens 4gb', 'mens 4gb', 'mens hdd', 'mens small', 'mens sas', 'mens 4gb', 'mens 4gb', 'mens g', 'hard', 'mens 4gb', 'hard', 'mens sas', 'mens hdd', 'mens hdd', 'mens 4gb', 'mens hdd', 'mens hdd', 'mens 4gb', 'mens hdd', 'hdd', 'hard', 'hard', 'hard', 'mens motorola', 'hard', 'mens 4gb', 'mens 4gb', 'mens hdd', 'mens motorola', 'mens 4gb', 'motorola', 'mens 4gb', 'mens small', 'mens pair', 'mens motorola', 'hard', 'mens small', 'mens 4gb', 'hard', 'mens 4gb', 'mens motorola', 'mens motorola', 'mens sas', 'mens hdd', 'hard', 'mens 4gb', 'mens 4gb', 'mens 4gb', 'motorola', 'mens 4gb', 'mens motorola', 'mens 4gb', 'mens 4gb', 'mens 4gb', 'mens motorola', 'hard', 'mens hdd', 'mens 4gb', 'mens shoes', 'motorola', 'hard', 'mens pair', 'mens shoes', 'mens hdd', 'mens hdd', 'mens 4gb', 'mens 4gb', 'hard', 'mens hdd', 'mens 4gb', 'mens 4gb', 'mens 4gb', 'hard', 'hard', 'motorola', 'mens magic', 'mens 4gb', 'sas', 'mens 4gb', 'mens hdd', 'mens hdd', 'mens 4gb', 'mens 4gb', 'mens small', 'mens 4gb', 'hard', 'motorola', 'mens classic', 'hard', 'caterpillar', 'mens hdd', 'mens shoes', 'mens small', 'mens hdd', 'shoes', 'mens 4gb', 'mens hdd', 'mens shoes', 'hard', 'mens hdd', 'mens 4gb', 'hard', 'mens 4gb', 'mens 4gb', 'hard', 'hard', 'mens 4gb', 'mens hdd', 'mens hdd', 'mens 4gb', 'sas', 'mens hdd', 'mens hdd', 'hard', 'mens 4gb', 'mens 4gb', 'mens 4gb', 'mens motorola', 'mens hdd', 'mens hdd', 'caterpillar', 'hard', 'mens 4gb', 'mens 4gb', 'shoes', 'motorola', 'mens motorola', 'mens 4gb', 'mens sas', 'mens small', 'mens hdd', 'hard', 'mens magic', 'mens brief', 'mens hdd', 'mens motorola', 'mens hdd', 'mens hdd', 'mens 4gb', 'gift', 'hard', 'mens 4gb', 'motorola', 'mens 4gb', 'mens 4gb', 'mens 4gb', 'caterpillar', 'mens 4gb', 'mens 4gb', 'mens small', 'hard', 'mens pair', 'mens hdd', 'hard', 'mens shoes', 'mens motorola', 'mens motorola', 'mens 4gb', 'mens 4gb', 'sas', 'mens 4gb', 'hard', 'mens hdd', 'mens hdd', 'mens hdd', 'mens sas', 'mens hdd', 'mens 4gb', 'mens 4gb', 'mens motorola', 'mens hdd', 'mens motorola', 'mens motorola', 'mens hdd', 'nail', 'mens 4gb', 'mens hdd', 'mens motorola', 'mens 4gb', 'hard', 'shoes', 'hard', 'mens 4gb', 'mens 4gb', 'mens motorola', 'mens hdd', 'mens 4gb', 'mens hdd', 'mens 4gb', 'mens 4gb', 'hard', 'mens hdd', 'mens motorola', 'mens 4gb', 'sas', 'mens magic', 'mens motorola', 'mens motorola', 'mens 4gb', 'hard', 'mens sas', 'hard', 'hard', 'mens hdd', 'mens hard', 'mens 4gb', 'mens 4gb', 'mens sas', 'mens 4gb', 'mens hdd', 'mens hdd', 'shoes', 'mens 4gb', 'mens small', 'mens hdd', 'mens 4gb', 'mens sas', 'mens hdd', 'hard', 'sas', 'sas', 'mens sas', 'mens 4gb', 'mens motorola', 'mens hdd', 'hard', 'mens hdd', 'mens magic', 'mens 4gb', 'mens brief', 'mens sas', 'mens sas', 'mens hdd', 'mens motorola', 'cards', 'mens 4gb', 'mens shoes', 'mens 4gb', 'mens hdd', 'mens motorola', 'hard', 'mens hdd', 'mens 4gb', 'mens motorola', 'mens hdd', 'mens small', 'mens hdd', 'hard', 'hard', 'mens shoes', 'mens hdd', 'mens sas', 'mens 4gb', 'mens hdd', 'mens 4gb', 'mens hdd', 'mens hdd', 'mens hdd', 'hard', 'mens sas', 'mens 4gb', 'mens hdd', 'mens pair', 'mens 4gb', 'mens hdd', 'hdd', 'mens small', 'mens hdd', 'mens motorola', 'hard', 'mens hdd', 'mens magic', 'mens 4gb', 'mens 4gb', 'mens 4gb', 'hard', 'mens motorola', 'hard', 'mens shoes', 'mens 4gb', 'g', 'mens 4gb', 'hard', 'sas', 'hard', 'mens 4gb', 'hard', 'mens 4gb', 'mens motorola', 'mens 4gb', 'mens 4gb', 'mens hdd', 'mens g', 'mens 4gb', 'mens hdd', 'motorola', 'mens small', 'mens 4gb', 'mens hdd', 'mens hdd', 'nail', 'hard', 'hard', 'mens hdd', 'hard', 'hard', 'mens motorola', 'mens shoes', 'mens shoes', 'mens sas', 'mens hdd', 'mens 4gb', 'mens 4gb', 'sas', 'mens magic', 'hard', 'mens hdd', 'mens 4gb', 'mens shoes', 'mens 4gb', 'mens hdd', 'mens 4gb', 'hard', 'mens motorola', 'mens 4gb', 'mens sas', 'mens 4gb', 'mens 4gb', 'mens sas', 'hard', 'mens hdd', 'mens 4gb', 'mens 4gb', 'mens 4gb', 'mens 4gb', 'mens 4gb', 'mens 4gb', 'mens 4gb', 'hard', 'mens motorola', 'mens 4gb', 'mens 4gb', 'mens 4gb', 'mens 4gb', 'mens hdd', 'mens motorola', 'mens hdd', 'hard', 'mens 4gb', 'mens sas', 'mens hdd', 'mens 4gb', 'mens 4gb', 'hard', 'hard', 'mens 4gb', 'mens 4gb', 'mens small', 'mens classic', 'mens motorola', 'hard', 'mens hdd', 'mens magic', 'hard', 'mens motorola', 'mens hdd', 'motorola', 'hard', 'mens pair', 'mens 4gb', 'mens shoes', 'hard', 'mens hdd', 'hard', 'mens 4gb', 'mens 4gb', 'mens 4gb', 'hard', 'hdd', 'mens motorola', 'mens hdd', 'sas', 'hard', 'mens 4gb', 'mens shoes', 'mens hdd', 'motorola', 'mens hdd', 'mens hdd', 'mens 4gb', 'mens hdd', 'mens motorola', 'mens 4gb', 'mens motorola', 'mens g', 'mens 4gb', 'mens 4gb', 'mens hdd', 'mens sas', 'mens sas', 'mens 4gb', 'hard', 'small', 'mens sas', 'mens hdd', 'mens hdd', 'hard', 'sas', 'hard', 'mens 4gb', 'motorola', 'mens 4gb', 'mens hdd', 'mens 4gb', 'mens 4gb', 'mens sas', 'mens hdd', 'hdd', 'hard', 'mens hdd', 'hard', 'mens motorola', 'mens hdd', 'mens 4gb', 'mens 4gb', 'mens hdd', 'mens gift', 'small', 'hard', 'mens hdd', 'mens 4gb', 'hard', 'mens motorola', 'mens 4gb', 'hard', 'mens 4gb', 'mens 4gb', 'mens magic', 'mens 4gb', 'mens hdd', 'mens pair', 'mens motorola', 'mens 4gb', 'shoes', 'hard', 'hard', 'mens 4gb', 'hard', 'shoes', 'mens hdd', 'sas', 'mens motorola', 'mens magic', 'mens 4gb', 'mens motorola', 'mens hdd', 'mens hdd', 'mens 4gb', 'motorola', 'mens shoes', 'mens hdd', 'mens motorola', 'hard', 'mens hdd', 'mens sas', 'hard', 'mens 4gb', 'mens hdd', 'mens hdd', 'mens motorola', 'mens 4gb', 'hard', 'mens sas', 'mens gift', 'mens 4gb', 'mens shoes', 'mens small', 'mens sas', 'mens 4gb', 'hard', 'mens hdd', 'mens 4gb', 'mens hdd', 'hard', 'mens sas', 'hard', 'hard', 'mens hdd', 'mens motorola', 'mens hdd', 'mens hdd', 'mens pair', 'mens hdd', 'mens motorola', 'hard', 'mens hdd', 'mens motorola', 'mens sas', 'mens 4gb', '15', 'mens motorola', 'hdd', 'mens hdd', 'motorola', 'mens 4gb', 'mens shoes', 'mens 4gb', 'mens hdd', 'mens hdd', 'mens motorola', 'mens magic', 'mens sas', 'mens hdd', 'mens sas', 'gift', 'hard', 'shoes', 'mens 4gb', 'mens motorola', 'mens 4gb', 'mens 4gb', 'mens hdd', 'mens sas', 'mens 4gb', 'mens 4gb', 'mens hdd', 'mens 4gb', 'mens 4gb', 'mens hdd', 'hard', 'mens 4gb', 'mens sas', 'shoes', 'sas', 'mens magic', 'mens 4gb', 'mens hdd', 'mens small', 'mens motorola', 'mens 4gb', 'shoes', 'mens 4gb', 'mens hdd', 'hard', 'mens 4gb', 'hard', 'hard', 'mens 4gb', 'mens motorola', 'hard', 'mens magic', 'mens 4gb', 'mens hdd', 'mens 4gb', 'mens 4gb', 'hdd', 'mens magic', 'mens 4gb', 'mens 4gb', 'mens magic', 'magic', 'mens hdd', 'mens 4gb', 'mens 4gb', 'mens hdd', 'mens brief', 'mens motorola', 'mens 4gb', 'mens sas', 'mens 4gb', 'mens motorola', 'mens 4gb', 'mens 4gb', 'hard', 'hard', 'mens 4gb', 'sas', 'mens motorola', 'mens 4gb', 'mens hdd', 'mens hdd', 'mens shoes', 'mens 4gb', 'shoes', 'mens 4gb', 'mens 4gb', 'mens motorola', 'mens shoes', 'mens 4gb', 'mens pair', 'hard', 'hard', 'hard', 'mens 4gb', 'mens hdd', 'hard', 'mens 4gb', 'mens hdd', 'mens shoes', 'hard', 'sas', 'hard', 'mens sas', 'mens motorola', 'mens 4gb', 'hard', 'mens hdd', 'mens 4gb', 'mens 4gb', 'mens 4gb', 'mens 4gb', 'hard', 'mens 4gb', 'hard', 'mens hdd', 'mens 4gb', 'hard', 'mens hdd', 'shoes', 'hard', 'mens sas', 'mens hdd', 'hard', 'hard', 'mens hdd', 'hard', 'hard', 'shoes', 'mens 4gb', 'mens 4gb', 'mens 4gb', 'mens 4gb', 'mens 4gb', 'mens sas', 'hard', 'motorola', 'mens 4gb', 'mens 4gb', 'mens 4gb', 'mens 4gb', 'mens small', 'mens 4gb', 'hard', 'mens motorola', 'mens hdd', 'mens 4gb', 'mens magic', 'mens 4gb', 'mens 4gb', 'mens 4gb', 'mens hdd', 'mens hdd', 'mens magic', 'mens pair', 'mens pair', 'mens 4gb', 'mens 4gb', 'mens small', 'hard', 'mens hdd', 'mens shoes', 'mens motorola', 'mens hdd', 'mens 4gb', 'mens hdd', 'mens 4gb', 'mens hdd', 'mens hdd', 'mens 4gb', 'mens 4gb', 'mens small', 'mens 4gb', 'shoes', 'mens pair', 'mens 4gb', 'mens 4gb', 'mens 4gb', 'mens 4gb', 'mens hdd', 'hard', 'mens 4gb', 'mens 4gb', 'motorola', 'hard', 'mens 4gb', 'mens hdd', 'mens hdd', 'mens g', 'hard', 'mens motorola', 'mens sas', 'mens hdd', 'hard', 'mens magic', 'sas', 'hard', 'hard', 'mens shoes', 'sas', 'mens 4gb', 'mens 4gb', 'mens 4gb', 'mens 4gb', 'mens 4gb', 'hard', 'hard', 'mens 4gb', 'mens sas', 'mens 4gb', 'mens hdd', 'mens 4gb', 'mens magic', 'mens hdd', 'nail', 'mens hdd', 'mens 4gb', 'mens hdd', 'mens 4gb', 'shoes', 'mens 4gb', 'mens 4gb', 'mens 4gb', 'nail', 'hard', 'mens xl', 'mens 4gb', 'mens motorola', 'sas', 'mens pair', 'mens motorola', 'mens pair', 'mens 4gb', 'hard', 'mens 4gb', 'mens 4gb', 'mens hdd', 'mens 4gb', 'hard', 'mens 4gb', 'mens 4gb', 'nail', 'mens 4gb', 'mens 4gb', 'mens motorola', 'mens hdd', 'hard', 'mens classic', 'mens 4gb', 'mens 4gb', 'mens sas', 'hard', 'mens 4gb', 'hard', 'mens hdd', 'hard', 'mens 4gb', 'mens classic', 'mens sas', 'hard', 'mens hdd', 'mens 4gb', 'mens hdd', 'mens 4gb', 'mens motorola', 'mens 4gb', 'mens 4gb', 'hard', 'mens 4gb', 'mens 4gb', 'mens motorola', 'mens sas', 'hard', 'mens 4gb', 'hard', 'mens hdd', 'hard', 'mens hdd', 'mens 4gb', 'mens small', 'mens hdd', 'mens hdd', 'mens 4gb', 'mens small', 'nail', 'mens motorola', 'mens hdd', 'mens hdd', 'hard', 'mens 4gb', 'mens 4gb', 'mens 4gb', 'mens 4gb', 'mens hdd', 'mens 4gb', 'mens motorola', 'hard', 'motorola', 'hard', 'hard', 'mens 4gb', 'hard', 'shoes', 'mens hdd', 'mens motorola', 'mens sas', 'mens motorola', 'mens hdd', 'mens sas', 'mens 4gb', 'mens small', 'mens motorola', 'mens magic', 'hard', 'mens 4gb', 'mens sas', 'mens magic', 'mens 4gb', 'hard', 'mens 4gb', 'hdd', 'mens hdd', 'mens hdd', 'hard', 'mens motorola', 'shoes', 'mens 4gb', 'mens hdd', 'shoes', 'mens magic', 'hard', 'mens pair', 'mens 4gb', 'hard', 'hard', 'mens 4gb', 'mens g', 'mens 4gb', 'mens hdd', 'mens sas', 'mens sas', 'shoes', 'mens motorola', 'mens hdd', 'mens 4gb', 'hard', 'mens sas', 'mens 4gb', 'mens pair', 'mens magic', 'hard', 'mens 4gb', 'mens magic', 'mens 4gb', 'mens pair', 'mens g', 'mens hdd', 'mens pair', 'mens motorola', 'mens sas', 'mens 4gb', 'mens motorola', 'mens 4gb', 'mens hdd', 'mens hdd', 'mens hdd', 'mens 4gb', 'mens 4gb', 'mens 4gb', 'mens 4gb', 'sas', 'mens 4gb', 'mens 4gb', 'sas', 'mens 4gb', 'mens 4gb', 'hard', 'mens hdd', 'mens magic', 'mens motorola', 'mens hdd', 'mens 4gb', 'sas', 'hard', 'mens sas', 'mens hdd', 'hard', 'shoes', 'hard', 'hdd', 'mens 4gb', 'mens 4gb', 'hard', 'mens 4gb', 'mens 4gb', 'mens 4gb', 'hard', 'mens 4gb', 'sas', 'mens motorola', 'mens 4gb', 'mens hdd', 'hard', 'mens sas', 'mens 15', 'hard', 'mens 4gb', 'mens hdd', 'mens small', 'mens hdd', 'mens hdd', 'mens 4gb', 'mens motorola', 'mens 4gb', 'mens hdd', 'mens 4gb', 'mens 4gb', 'hard', 'mens magic', 'mens hdd', 'mens hdd', 'mens hdd', 'mens 4gb', 'mens sas', 'hard', 'motorola', 'mens shoes', 'mens 4gb', 'mens 4gb', 'mens 4gb', 'mens 4gb', 'mens 4gb', 'hard', 'mens 4gb', 'mens sas', 'mens hdd', 'mens 4gb', 'mens 4gb', 'mens motorola', 'mens sas', 'mens hdd', 'mens 4gb', 'mens plush', 'hard', 'mens 4gb', 'mens hdd', 'mens 4gb', 'mens hdd', 'hard', 'mens hdd', 'hard', 'mens hdd', 'mens hdd', 'mens 4gb', 'mens hdd', 'hdd', 'mens sas', 'mens 4gb', 'mens 4gb', 'mens small', 'mens hdd', 'mens hdd', 'mens hdd', 'mens 4gb', 'hdd', 'mens 4gb', 'mens 4gb', 'mens 4gb', 'hard', 'mens sas', 'mens 4gb', 'mens motorola', 'mens 4gb', 'mens hdd', 'mens motorola', 'mens 4gb', 'mens motorola', 'pair', 'mens pair', 'mens classic', 'mens 4gb', 'mens sas', 'hard', 'mens magic', 'hard', 'hard', 'mens hdd', 'mens 4gb', 'mens 4gb', 'hard', 'hard', 'hard', 'mens 4gb', 'mens hdd', 'mens sas', 'mens hdd', 'hard', 'sas', 'mens hdd', 'mens hdd', 'mens g', 'sas', 'mens 4gb', 'mens shoes', 'mens g', 'mens motorola', 'mens hdd', 'mens sas', 'mens magic', 'mens sas', 'shoes', 'mens 4gb', 'hard', 'hard', 'mens hdd', 'mens 4gb', 'mens hdd', 'hard', 'hard', 'hard', 'mens 4gb', 'mens hdd', 'mens motorola', 'mens 4gb', 'mens 4gb', 'mens motorola', 'sas', 'mens motorola', 'mens hdd', 'sas', 'hard', 'mens 4gb', 'hard', 'mens 4gb', 'mens 4gb', 'mens 4gb', 'hard', 'mens 4gb', 'mens hdd', 'mens shoes', 'mens hdd', 'mens 4gb', 'mens motorola', 'mens 4gb', 'hard', 'mens motorola', 'mens 4gb', 'mens hdd', 'mens hdd', 'hard', 'mens hdd', 'hard', 'mens shoes', 'mens 4gb', 'mens 4gb', 'mens hdd', 'mens 4gb', 'mens 4gb', 'mens small', 'mens 4gb', 'sas', 'mens pair', 'mens motorola', 'mens 4gb', 'mens sas', 'mens 4gb', 'mens nail', 'mens 4gb', 'mens sas', 'mens 4gb', 'mens pair', 'mens 4gb', 'mens small', 'hdd', 'mens 4gb', 'mens hdd', 'hard', 'mens hdd', 'mens hdd', 'mens sas', 'mens 4gb', 'mens small', 'mens 4gb', 'mens 4gb', 'hard', 'mens magic', 'mens 4gb', 'mens motorola', 'mens hdd', 'mens 4gb', 'mens hdd', 'mens hdd', 'mens hdd', 'shoes', 'mens hdd', 'mens 4gb', 'mens hdd', 'slim', 'hard', 'mens hdd', 'mens 4gb', 'mens magic', 'mens hdd', 'hard', 'mens 4gb', 'mens motorola', 'mens 4gb', 'sas', 'hdd', 'mens hdd', '4gb', 'mens hdd', 'mens hdd', 'mens hdd', 'hard', 'mens hdd', 'mens hdd', 'mens 4gb', 'mens 4gb', 'mens 4gb', 'mens magic', 'mens vintage', 'mens magic', 'mens 4gb', 'hdd', 'hard', 'mens hdd', 'mens 4gb', 'shoes', 'mens 4gb', 'mens magic', 'hard', 'mens 4gb', 'mens hdd', 'mens 4gb', 'motorola', 'mens hdd', 'mens hdd', 'mens hdd', 'hard', 'hard', 'mens 4gb', 'mens 4gb', '4gb', 'mens 4gb', 'mens 4gb', 'mens sas', 'mens hdd', 'mens 4gb', 'mens 4gb', 'hard', 'hard', 'mens hdd', 'mens motorola', 'motorola', 'mens hdd', 'hard', 'mens 4gb', 'mens shoes', 'mens 4gb', 'mens hdd', 'mens hdd', 'mens 4gb', 'mens hdd', 'mens 4gb', 'mens 4gb', 'mens hdd', 'mens 4gb', 'mens motorola', 'mens 4gb', 'classic', 'mens shoes', '4gb', 'mens hdd', 'mens 4gb', 'sas', 'mens shoes', 'hard', 'mens 4gb', 'mens hdd', 'hard', 'hard', 'mens magic', 'mens hdd', 'motorola', 'mens 4gb', 'mens 4gb', 'mens motorola', 'mens g', 'mens hdd', 'hard', 'nail', 'mens hdd', 'mens motorola', 'mens 4gb', 'mens 4gb', 'mens motorola', 'mens 4gb', 'hard', 'mens sas', 'mens hdd', 'hard', 'hard', 'mens 4gb', 'hard', 'hard', 'hard', 'hard', 'mens hdd', 'mens sas', 'mens hdd', 'mens sas', 'mens sas', 'mens sas', 'hard', 'mens sas', 'mens sas', 'mens sas', 'mens 4gb', 'mens hdd', 'hard', 'hard', 'mens sas', 'mens sas', 'mens motorola', 'mens 4gb', 'hard', 'mens hdd', 'mens 4gb', 'mens hdd', 'mens 4gb', 'mens hdd', 'mens 4gb', 'mens 4gb', 'shoes', 'hard', 'mens gift', 'mens sas', 'mens small', 'mens 4gb', 'mens 4gb', 'mens 4gb', 'mens hdd', 'sas', 'mens 4gb', 'mens 4gb', 'hard', 'hard', 'hard', 'mens 4gb', 'small', 'mens cards', 'mens hdd', 'mens motorola', 'mens 4gb', 'sas', 'mens sas', 'mens hdd', 'mens hdd', 'mens hdd', 'mens pair', 'mens 4gb', 'mens motorola', 'mens sas', 'hdd', 'hard', 'mens 4gb', 'mens small', 'mens 4gb', 'mens 4gb', 'mens motorola', 'mens 4gb', 'hard', 'mens hdd', 'mens hdd', 'mens shoes', 'mens motorola', 'hard', 'mens magic', 'hard', 'sas', 'mens 4gb', 'mens hdd', 'mens 4gb', 'mens hdd', 'mens g', 'mens magic', 'mens hdd', 'mens 4gb', 'mens 4gb', 'mens 4gb', 'mens 4gb', 'mens magic', 'g', 'mens hdd', 'mens shoes', 'mens 4gb', 'hard', 'mens hdd', 'hard', 'hdd', 'mens 4gb', 'mens 4gb', 'mens 4gb', 'mens 4gb', 'mens pair', 'mens hdd', 'mens hdd', 'hard', 'mens hdd', 'mens 4gb', 'mens 4gb', 'hard', 'hard', 'caterpillar', 'hard', 'mens 4gb', 'mens 4gb', 'mens hdd', 'mens motorola', 'mens 4gb', 'mens hdd', 'mens sas', 'mens hdd', 'mens 4gb', 'hard', 'mens 4gb', 'mens 4gb', 'hard', 'magic', 'hard', 'mens pair', 'mens shoes', 'mens 4gb', 'mens 4gb', '4gb', 'mens hdd', 'hard', 'mens hdd', 'hard', 'mens hdd', 'mens 4gb', 'mens 4gb', 'mens 4gb', 'gift', 'hard', 'mens motorola', 'hard', 'mens motorola', 'mens sas', 'hard', 'mens 4gb', 'mens 4gb', 'mens motorola', 'hard', 'mens hdd', 'mens hdd', 'mens motorola', 'mens motorola', 'hard', 'mens hdd', 'mens 4gb', 'mens g', 'hdd', 'sas', 'shoes', 'mens hdd', 'mens 4gb', 'mens motorola', 'mens hdd', 'mens sas', 'mens 4gb', 'mens motorola', 'mens small', 'mens pair', 'mens hdd', 'hard', 'mens hdd', 'mens motorola', 'hard', 'mens hdd', 'mens pair', 'sas', 'mens hdd', 'mens 4gb', 'mens 4gb', 'mens magic', 'hard', 'mens 4gb', 'mens 4gb', 'mens shoes', 'mens hdd', 'mens hdd', 'hard', 'mens 4gb', 'mens motorola', 'hard', 'mens motorola', 'sas', 'mens 4gb', 'mens hdd', 'mens 4gb', 'hard', 'mens 4gb', 'mens 4gb', 'mens sas', 'sas', 'mens hdd', 'hard', 'mens motorola', 'mens hdd', 'mens 4gb', 'mens hdd', 'mens hdd', 'mens sas', 'mens motorola', 'mens 4gb', 'mens small', 'mens 4gb', '4gb', 'hard', 'hard', 'mens motorola', 'mens hdd', 'mens 4gb', 'mens sas', 'mens 4gb', 'mens g', 'mens 4gb', 'mens hdd', 'mens 4gb', 'mens 4gb', 'mens hdd', 'mens sas', 'mens hdd', 'mens shoes', 'mens 4gb', 'mens 4gb', 'mens hdd', 'mens 4gb', 'mens 4gb', 'mens hdd', 'sas', 'mens hdd', 'mens hdd', 'mens 4gb', 'mens classic', 'mens hdd', 'mens motorola', 'hard', 'mens shoes', 'mens 4gb', 'hard', 'mens hdd', 'mens 4gb', 'mens 4gb', 'mens 4gb', 'mens hdd', 'mens pair', 'mens sas', 'mens hdd', 'mens 4gb', 'mens hdd', 'hard', 'mens 4gb', 'mens pair', 'mens hdd', 'mens 4gb', 'mens small', 'mens 4gb', 'sas', 'mens magic', 'mens 4gb', 'hard', 'mens motorola', 'mens sas', 'mens 4gb', 'mens 4gb', 'mens magic', 'mens sas', 'mens 4gb', 'mens hdd', 'mens small', 'mens pair', 'mens pair', 'hdd', 'mens small', 'mens small', 'mens motorola', 'motorola', 'mens shoes', 'mens hdd', 'mens 4gb', 'mens hdd', 'mens hdd', 'mens 4gb', 'mens 4gb', 'mens 4gb', 'mens 4gb', 'hard', 'mens motorola', 'mens 4gb', 'hard', 'hard', 'mens 4gb', 'mens hdd', 'mens 4gb', 'mens motorola', 'mens 4gb', 'mens hdd', 'mens hdd', 'mens 4gb', 'hard', 'sas', 'mens hdd', 'mens motorola', 'mens motorola', 'mens sas', 'mens hdd', 'mens 4gb', 'mens motorola', 'mens 4gb', 'mens hdd', 'mens 4gb', 'mens hdd', 'hard', 'mens hdd', 'mens 4gb', 'mens 4gb', 'mens hdd', 'mens 4gb', 'mens hdd', 'mens 4gb', 'hard', 'mens 4gb', 'hard', 'mens motorola', 'mens 4gb', 'mens 4gb', 'mens hdd', 'mens 4gb', 'mens g', 'hard']\n"
          ],
          "name": "stdout"
        }
      ]
    }
  ]
}